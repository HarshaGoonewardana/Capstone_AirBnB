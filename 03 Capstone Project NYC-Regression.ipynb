{
 "cells": [
  {
   "cell_type": "markdown",
   "metadata": {
    "hide_input": true
   },
   "source": [
    "# Data Science Immersive - General Assembly \n",
    "## Capstone Project\n",
    "Harsha Goonewardana <br>\n",
    "Today"
   ]
  },
  {
   "cell_type": "markdown",
   "metadata": {},
   "source": [
    " #### This notebook will use a number for regression models to infer feature importance"
   ]
  },
  {
   "cell_type": "code",
   "execution_count": 4,
   "metadata": {
    "ExecuteTime": {
     "end_time": "2017-09-12T19:01:48.734137Z",
     "start_time": "2017-09-12T19:01:46.727182Z"
    },
    "hide_input": true
   },
   "outputs": [],
   "source": [
    "import pandas as pd\n",
    "import os\n",
    "import re\n",
    "import numpy as np\n",
    "import seaborn as sns\n",
    "import matplotlib as mpl\n",
    "import matplotlib.pyplot as plt\n",
    "from IPython.display import display\n",
    "pd.options.display.max_columns = None\n",
    "\n",
    "from sklearn.preprocessing import Imputer\n",
    "from sklearn.preprocessing import StandardScaler\n",
    "from sklearn.ensemble import RandomForestRegressor\n",
    "from sklearn.tree import DecisionTreeClassifier\n",
    "from sklearn.model_selection import GridSearchCV\n",
    "from sklearn.model_selection import cross_val_score\n",
    "from sklearn.model_selection import train_test_split\n",
    "from sklearn.metrics import classification_report\n",
    "from sklearn.metrics import confusion_matrix\n",
    "from sklearn.model_selection import train_test_split\n",
    "import pickle"
   ]
  },
  {
   "cell_type": "code",
   "execution_count": 5,
   "metadata": {},
   "outputs": [],
   "source": [
    "from xgboost.sklearn import XGBRegressor \n",
    "\n",
    "from sklearn.linear_model import LinearRegression, RidgeCV, LassoCV, ElasticNetCV\n",
    "\n",
    "from sklearn.metrics import mean_squared_error,r2_score"
   ]
  },
  {
   "cell_type": "code",
   "execution_count": 6,
   "metadata": {},
   "outputs": [],
   "source": [
    "df=pd.read_pickle('./data/NYCdum.pkl')"
   ]
  },
  {
   "cell_type": "code",
   "execution_count": 7,
   "metadata": {},
   "outputs": [
    {
     "data": {
      "text/html": [
       "<div>\n",
       "<style scoped>\n",
       "    .dataframe tbody tr th:only-of-type {\n",
       "        vertical-align: middle;\n",
       "    }\n",
       "\n",
       "    .dataframe tbody tr th {\n",
       "        vertical-align: top;\n",
       "    }\n",
       "\n",
       "    .dataframe thead th {\n",
       "        text-align: right;\n",
       "    }\n",
       "</style>\n",
       "<table border=\"1\" class=\"dataframe\">\n",
       "  <thead>\n",
       "    <tr style=\"text-align: right;\">\n",
       "      <th></th>\n",
       "      <th>number_of_reviews</th>\n",
       "      <th>accommodates</th>\n",
       "      <th>bathrooms</th>\n",
       "      <th>bedrooms</th>\n",
       "      <th>beds</th>\n",
       "      <th>price</th>\n",
       "      <th>guests_included</th>\n",
       "      <th>extra_people</th>\n",
       "      <th>minimum_nights</th>\n",
       "      <th>security_deposit</th>\n",
       "      <th>host_since</th>\n",
       "      <th>latitude</th>\n",
       "      <th>longitude</th>\n",
       "      <th>ppl_bath</th>\n",
       "      <th>guest_prop</th>\n",
       "      <th>bnb_yield</th>\n",
       "      <th>DateDiffHostSince</th>\n",
       "      <th>dist_transit</th>\n",
       "      <th>property_type_Apartment</th>\n",
       "      <th>property_type_Condominium</th>\n",
       "      <th>property_type_House</th>\n",
       "      <th>property_type_Loft</th>\n",
       "      <th>property_type_Other</th>\n",
       "      <th>property_type_Townhouse</th>\n",
       "      <th>room_type_Entire home/apt</th>\n",
       "      <th>room_type_Private room</th>\n",
       "      <th>room_type_Shared room</th>\n",
       "      <th>host_is_superhost_f</th>\n",
       "      <th>host_is_superhost_t</th>\n",
       "      <th>cancellation_policy_flexible</th>\n",
       "      <th>cancellation_policy_moderate</th>\n",
       "      <th>cancellation_policy_strict</th>\n",
       "      <th>cancellation_policy_strict_14_with_grace_period</th>\n",
       "      <th>cancellation_policy_super_strict_30</th>\n",
       "      <th>cancellation_policy_super_strict_60</th>\n",
       "      <th>bed_type_OTHER</th>\n",
       "      <th>bed_type_Real Bed</th>\n",
       "    </tr>\n",
       "  </thead>\n",
       "  <tbody>\n",
       "    <tr>\n",
       "      <th>0</th>\n",
       "      <td>168.0</td>\n",
       "      <td>3.0</td>\n",
       "      <td>1.0</td>\n",
       "      <td>1.0</td>\n",
       "      <td>2.0</td>\n",
       "      <td>119.0</td>\n",
       "      <td>2.0</td>\n",
       "      <td>39.0</td>\n",
       "      <td>2.0</td>\n",
       "      <td>0.0</td>\n",
       "      <td>2008-09-06</td>\n",
       "      <td>40.799205</td>\n",
       "      <td>-73.953676</td>\n",
       "      <td>0.5</td>\n",
       "      <td>0.666667</td>\n",
       "      <td>17425.408</td>\n",
       "      <td>3601.0</td>\n",
       "      <td>0.115468</td>\n",
       "      <td>1</td>\n",
       "      <td>0</td>\n",
       "      <td>0</td>\n",
       "      <td>0</td>\n",
       "      <td>0</td>\n",
       "      <td>0</td>\n",
       "      <td>0</td>\n",
       "      <td>1</td>\n",
       "      <td>0</td>\n",
       "      <td>1</td>\n",
       "      <td>0</td>\n",
       "      <td>0</td>\n",
       "      <td>0</td>\n",
       "      <td>0</td>\n",
       "      <td>1</td>\n",
       "      <td>0</td>\n",
       "      <td>0</td>\n",
       "      <td>0</td>\n",
       "      <td>1</td>\n",
       "    </tr>\n",
       "    <tr>\n",
       "      <th>1</th>\n",
       "      <td>7.0</td>\n",
       "      <td>4.0</td>\n",
       "      <td>1.0</td>\n",
       "      <td>2.0</td>\n",
       "      <td>3.0</td>\n",
       "      <td>104.0</td>\n",
       "      <td>1.0</td>\n",
       "      <td>25.0</td>\n",
       "      <td>1.0</td>\n",
       "      <td>100.0</td>\n",
       "      <td>2008-09-07</td>\n",
       "      <td>40.647486</td>\n",
       "      <td>-73.972370</td>\n",
       "      <td>1.0</td>\n",
       "      <td>0.250000</td>\n",
       "      <td>2449.408</td>\n",
       "      <td>3600.0</td>\n",
       "      <td>0.392200</td>\n",
       "      <td>1</td>\n",
       "      <td>0</td>\n",
       "      <td>0</td>\n",
       "      <td>0</td>\n",
       "      <td>0</td>\n",
       "      <td>0</td>\n",
       "      <td>0</td>\n",
       "      <td>1</td>\n",
       "      <td>0</td>\n",
       "      <td>0</td>\n",
       "      <td>1</td>\n",
       "      <td>0</td>\n",
       "      <td>1</td>\n",
       "      <td>0</td>\n",
       "      <td>0</td>\n",
       "      <td>0</td>\n",
       "      <td>0</td>\n",
       "      <td>0</td>\n",
       "      <td>1</td>\n",
       "    </tr>\n",
       "    <tr>\n",
       "      <th>2</th>\n",
       "      <td>32.0</td>\n",
       "      <td>2.0</td>\n",
       "      <td>1.0</td>\n",
       "      <td>0.0</td>\n",
       "      <td>1.0</td>\n",
       "      <td>325.0</td>\n",
       "      <td>2.0</td>\n",
       "      <td>0.0</td>\n",
       "      <td>1.0</td>\n",
       "      <td>350.0</td>\n",
       "      <td>2008-09-09</td>\n",
       "      <td>40.753621</td>\n",
       "      <td>-73.983774</td>\n",
       "      <td>0.5</td>\n",
       "      <td>1.000000</td>\n",
       "      <td>10316.800</td>\n",
       "      <td>3598.0</td>\n",
       "      <td>0.085077</td>\n",
       "      <td>1</td>\n",
       "      <td>0</td>\n",
       "      <td>0</td>\n",
       "      <td>0</td>\n",
       "      <td>0</td>\n",
       "      <td>0</td>\n",
       "      <td>1</td>\n",
       "      <td>0</td>\n",
       "      <td>0</td>\n",
       "      <td>1</td>\n",
       "      <td>0</td>\n",
       "      <td>0</td>\n",
       "      <td>0</td>\n",
       "      <td>0</td>\n",
       "      <td>1</td>\n",
       "      <td>0</td>\n",
       "      <td>0</td>\n",
       "      <td>0</td>\n",
       "      <td>1</td>\n",
       "    </tr>\n",
       "    <tr>\n",
       "      <th>3</th>\n",
       "      <td>32.0</td>\n",
       "      <td>2.0</td>\n",
       "      <td>1.0</td>\n",
       "      <td>1.0</td>\n",
       "      <td>1.0</td>\n",
       "      <td>195.0</td>\n",
       "      <td>2.0</td>\n",
       "      <td>50.0</td>\n",
       "      <td>5.0</td>\n",
       "      <td>150.0</td>\n",
       "      <td>2008-11-09</td>\n",
       "      <td>40.708558</td>\n",
       "      <td>-73.942362</td>\n",
       "      <td>0.5</td>\n",
       "      <td>1.000000</td>\n",
       "      <td>6190.080</td>\n",
       "      <td>3537.0</td>\n",
       "      <td>0.216335</td>\n",
       "      <td>1</td>\n",
       "      <td>0</td>\n",
       "      <td>0</td>\n",
       "      <td>0</td>\n",
       "      <td>0</td>\n",
       "      <td>0</td>\n",
       "      <td>0</td>\n",
       "      <td>1</td>\n",
       "      <td>0</td>\n",
       "      <td>1</td>\n",
       "      <td>0</td>\n",
       "      <td>0</td>\n",
       "      <td>0</td>\n",
       "      <td>0</td>\n",
       "      <td>1</td>\n",
       "      <td>0</td>\n",
       "      <td>0</td>\n",
       "      <td>0</td>\n",
       "      <td>1</td>\n",
       "    </tr>\n",
       "    <tr>\n",
       "      <th>4</th>\n",
       "      <td>198.0</td>\n",
       "      <td>3.0</td>\n",
       "      <td>1.0</td>\n",
       "      <td>1.0</td>\n",
       "      <td>3.0</td>\n",
       "      <td>89.0</td>\n",
       "      <td>1.0</td>\n",
       "      <td>0.0</td>\n",
       "      <td>1.0</td>\n",
       "      <td>500.0</td>\n",
       "      <td>2008-12-07</td>\n",
       "      <td>40.685138</td>\n",
       "      <td>-73.959757</td>\n",
       "      <td>1.0</td>\n",
       "      <td>0.333333</td>\n",
       "      <td>40282.112</td>\n",
       "      <td>3509.0</td>\n",
       "      <td>0.403653</td>\n",
       "      <td>0</td>\n",
       "      <td>0</td>\n",
       "      <td>0</td>\n",
       "      <td>0</td>\n",
       "      <td>1</td>\n",
       "      <td>0</td>\n",
       "      <td>1</td>\n",
       "      <td>0</td>\n",
       "      <td>0</td>\n",
       "      <td>1</td>\n",
       "      <td>0</td>\n",
       "      <td>0</td>\n",
       "      <td>1</td>\n",
       "      <td>0</td>\n",
       "      <td>0</td>\n",
       "      <td>0</td>\n",
       "      <td>0</td>\n",
       "      <td>0</td>\n",
       "      <td>1</td>\n",
       "    </tr>\n",
       "  </tbody>\n",
       "</table>\n",
       "</div>"
      ],
      "text/plain": [
       "   number_of_reviews  accommodates  bathrooms  bedrooms  beds  price  \\\n",
       "0              168.0           3.0        1.0       1.0   2.0  119.0   \n",
       "1                7.0           4.0        1.0       2.0   3.0  104.0   \n",
       "2               32.0           2.0        1.0       0.0   1.0  325.0   \n",
       "3               32.0           2.0        1.0       1.0   1.0  195.0   \n",
       "4              198.0           3.0        1.0       1.0   3.0   89.0   \n",
       "\n",
       "   guests_included  extra_people  minimum_nights  security_deposit host_since  \\\n",
       "0              2.0          39.0             2.0               0.0 2008-09-06   \n",
       "1              1.0          25.0             1.0             100.0 2008-09-07   \n",
       "2              2.0           0.0             1.0             350.0 2008-09-09   \n",
       "3              2.0          50.0             5.0             150.0 2008-11-09   \n",
       "4              1.0           0.0             1.0             500.0 2008-12-07   \n",
       "\n",
       "    latitude  longitude  ppl_bath  guest_prop  bnb_yield  DateDiffHostSince  \\\n",
       "0  40.799205 -73.953676       0.5    0.666667  17425.408             3601.0   \n",
       "1  40.647486 -73.972370       1.0    0.250000   2449.408             3600.0   \n",
       "2  40.753621 -73.983774       0.5    1.000000  10316.800             3598.0   \n",
       "3  40.708558 -73.942362       0.5    1.000000   6190.080             3537.0   \n",
       "4  40.685138 -73.959757       1.0    0.333333  40282.112             3509.0   \n",
       "\n",
       "   dist_transit  property_type_Apartment  property_type_Condominium  \\\n",
       "0      0.115468                        1                          0   \n",
       "1      0.392200                        1                          0   \n",
       "2      0.085077                        1                          0   \n",
       "3      0.216335                        1                          0   \n",
       "4      0.403653                        0                          0   \n",
       "\n",
       "   property_type_House  property_type_Loft  property_type_Other  \\\n",
       "0                    0                   0                    0   \n",
       "1                    0                   0                    0   \n",
       "2                    0                   0                    0   \n",
       "3                    0                   0                    0   \n",
       "4                    0                   0                    1   \n",
       "\n",
       "   property_type_Townhouse  room_type_Entire home/apt  room_type_Private room  \\\n",
       "0                        0                          0                       1   \n",
       "1                        0                          0                       1   \n",
       "2                        0                          1                       0   \n",
       "3                        0                          0                       1   \n",
       "4                        0                          1                       0   \n",
       "\n",
       "   room_type_Shared room  host_is_superhost_f  host_is_superhost_t  \\\n",
       "0                      0                    1                    0   \n",
       "1                      0                    0                    1   \n",
       "2                      0                    1                    0   \n",
       "3                      0                    1                    0   \n",
       "4                      0                    1                    0   \n",
       "\n",
       "   cancellation_policy_flexible  cancellation_policy_moderate  \\\n",
       "0                             0                             0   \n",
       "1                             0                             1   \n",
       "2                             0                             0   \n",
       "3                             0                             0   \n",
       "4                             0                             1   \n",
       "\n",
       "   cancellation_policy_strict  \\\n",
       "0                           0   \n",
       "1                           0   \n",
       "2                           0   \n",
       "3                           0   \n",
       "4                           0   \n",
       "\n",
       "   cancellation_policy_strict_14_with_grace_period  \\\n",
       "0                                                1   \n",
       "1                                                0   \n",
       "2                                                1   \n",
       "3                                                1   \n",
       "4                                                0   \n",
       "\n",
       "   cancellation_policy_super_strict_30  cancellation_policy_super_strict_60  \\\n",
       "0                                    0                                    0   \n",
       "1                                    0                                    0   \n",
       "2                                    0                                    0   \n",
       "3                                    0                                    0   \n",
       "4                                    0                                    0   \n",
       "\n",
       "   bed_type_OTHER  bed_type_Real Bed  \n",
       "0               0                  1  \n",
       "1               0                  1  \n",
       "2               0                  1  \n",
       "3               0                  1  \n",
       "4               0                  1  "
      ]
     },
     "execution_count": 7,
     "metadata": {},
     "output_type": "execute_result"
    }
   ],
   "source": [
    "df.head()"
   ]
  },
  {
   "cell_type": "markdown",
   "metadata": {},
   "source": [
    "#### Establish the baseline using mean "
   ]
  },
  {
   "cell_type": "code",
   "execution_count": 8,
   "metadata": {},
   "outputs": [
    {
     "name": "stdout",
     "output_type": "stream",
     "text": [
      "The baseline measure for bnb_yield is 24159.42116242619\n",
      "\n",
      "The baseline measure for price is 178.6024154589372\n"
     ]
    }
   ],
   "source": [
    "print('The baseline measure for bnb_yield is {}'.format (df.bnb_yield.mean()))\n",
    "print('')\n",
    "print('The baseline measure for price is {}'.format (df.price.mean()))"
   ]
  },
  {
   "cell_type": "markdown",
   "metadata": {},
   "source": [
    "### Simple Linear Regression"
   ]
  },
  {
   "cell_type": "code",
   "execution_count": 14,
   "metadata": {},
   "outputs": [],
   "source": [
    "# as the X variable does not change, both explanatory variables were seperated at the same time\n",
    "X = df.drop(['price','bnb_yield','host_since'], axis=1)\n",
    "y = df['bnb_yield']\n",
    "y_p = df['price']"
   ]
  },
  {
   "cell_type": "code",
   "execution_count": 15,
   "metadata": {},
   "outputs": [
    {
     "data": {
      "text/plain": [
       "Index(['number_of_reviews', 'accommodates', 'bathrooms', 'bedrooms', 'beds',\n",
       "       'guests_included', 'extra_people', 'minimum_nights', 'security_deposit',\n",
       "       'latitude', 'longitude', 'ppl_bath', 'guest_prop', 'DateDiffHostSince',\n",
       "       'dist_transit', 'property_type_Apartment', 'property_type_Condominium',\n",
       "       'property_type_House', 'property_type_Loft', 'property_type_Other',\n",
       "       'property_type_Townhouse', 'room_type_Entire home/apt',\n",
       "       'room_type_Private room', 'room_type_Shared room',\n",
       "       'host_is_superhost_f', 'host_is_superhost_t',\n",
       "       'cancellation_policy_flexible', 'cancellation_policy_moderate',\n",
       "       'cancellation_policy_strict',\n",
       "       'cancellation_policy_strict_14_with_grace_period',\n",
       "       'cancellation_policy_super_strict_30',\n",
       "       'cancellation_policy_super_strict_60', 'bed_type_OTHER',\n",
       "       'bed_type_Real Bed'],\n",
       "      dtype='object')"
      ]
     },
     "execution_count": 15,
     "metadata": {},
     "output_type": "execute_result"
    }
   ],
   "source": [
    "X.columns"
   ]
  },
  {
   "cell_type": "markdown",
   "metadata": {},
   "source": [
    "#### Yield as the dependant variable"
   ]
  },
  {
   "cell_type": "code",
   "execution_count": 16,
   "metadata": {},
   "outputs": [
    {
     "name": "stdout",
     "output_type": "stream",
     "text": [
      "Shapes\n",
      "X_train: (29808, 34)\n",
      "X_test: (7452, 34)\n",
      "y_train: (29808,)\n",
      "y_test: (7452,)\n"
     ]
    }
   ],
   "source": [
    "X_train, X_test, y_train, y_test =train_test_split(X, y,test_size=0.2, random_state=42,)\n",
    "print('Shapes')\n",
    "print('X_train:', X_train.shape)\n",
    "print('X_test:', X_test.shape)\n",
    "print('y_train:', y_train.shape)\n",
    "print('y_test:', y_test.shape)"
   ]
  },
  {
   "cell_type": "code",
   "execution_count": 17,
   "metadata": {},
   "outputs": [
    {
     "data": {
      "text/plain": [
       "Index(['number_of_reviews', 'accommodates', 'bathrooms', 'bedrooms', 'beds',\n",
       "       'guests_included', 'extra_people', 'minimum_nights', 'security_deposit',\n",
       "       'latitude', 'longitude', 'ppl_bath', 'guest_prop', 'DateDiffHostSince',\n",
       "       'dist_transit', 'property_type_Apartment', 'property_type_Condominium',\n",
       "       'property_type_House', 'property_type_Loft', 'property_type_Other',\n",
       "       'property_type_Townhouse', 'room_type_Entire home/apt',\n",
       "       'room_type_Private room', 'room_type_Shared room',\n",
       "       'host_is_superhost_f', 'host_is_superhost_t',\n",
       "       'cancellation_policy_flexible', 'cancellation_policy_moderate',\n",
       "       'cancellation_policy_strict',\n",
       "       'cancellation_policy_strict_14_with_grace_period',\n",
       "       'cancellation_policy_super_strict_30',\n",
       "       'cancellation_policy_super_strict_60', 'bed_type_OTHER',\n",
       "       'bed_type_Real Bed'],\n",
       "      dtype='object')"
      ]
     },
     "execution_count": 17,
     "metadata": {},
     "output_type": "execute_result"
    }
   ],
   "source": [
    "X_train.columns"
   ]
  },
  {
   "cell_type": "code",
   "execution_count": 18,
   "metadata": {},
   "outputs": [],
   "source": [
    "ss = StandardScaler()\n",
    "\n",
    "#scale and transform the predictive dataset in both test and train forms\n",
    "X_train_s= ss.fit_transform(X_train) # saved the mean and std from X_train\n",
    "X_test_s=ss.transform(X_test)\n"
   ]
  },
  {
   "cell_type": "code",
   "execution_count": 25,
   "metadata": {},
   "outputs": [
    {
     "name": "stdout",
     "output_type": "stream",
     "text": [
      "Lr train score :\n",
      "0.43250949279565465\n",
      "\n",
      "Lr test score  :\n",
      "0.4074591089350863\n",
      "\n",
      "MSE: 752910997.12\n",
      "\n",
      "Error : 27439.22\n",
      "Variance score: 0.41\n"
     ]
    }
   ],
   "source": [
    "# Linear regression\n",
    "lr = LinearRegression()\n",
    "\n",
    "# Train the model using the training sets\n",
    "lr.fit(X_train_s, y_train)\n",
    "lr_y_pred = lr.predict(X_test_s)\n",
    "print(\"Lr train score :\")\n",
    "print(lr.score(X_train_s, y_train))\n",
    "print('')\n",
    "print(\"Lr test score  :\")\n",
    "\n",
    "print(lr.score(X_test_s, y_test))\n",
    "print('')\n",
    "print(\"MSE: %.2f\" % mean_squared_error(y_test, lr_y_pred))\n",
    "print('')\n",
    "price_value = mean_squared_error(y_test, lr_y_pred)\n",
    "print(\"Error : %.2f\" % np.sqrt(price_value))\n",
    "\n",
    "# Explained variance score: 1 is perfect prediction\n",
    "print('Variance score: %.2f' % r2_score(y_test, lr_y_pred))"
   ]
  },
  {
   "cell_type": "markdown",
   "metadata": {},
   "source": [
    "This is a very low score "
   ]
  },
  {
   "cell_type": "markdown",
   "metadata": {},
   "source": [
    "#### Price"
   ]
  },
  {
   "cell_type": "code",
   "execution_count": 20,
   "metadata": {},
   "outputs": [
    {
     "name": "stdout",
     "output_type": "stream",
     "text": [
      "Shapes\n",
      "X_train: (29808, 34)\n",
      "X_test: (7452, 34)\n",
      "y_train: (29808,)\n",
      "y_test: (7452,)\n"
     ]
    }
   ],
   "source": [
    "X_train_p, X_test_p, y_train_p, y_test_p =train_test_split(X, y_p,test_size=0.2, random_state=42,)\n",
    "print('Shapes')\n",
    "print('X_train:', X_train_p.shape)\n",
    "print('X_test:', X_test_p.shape)\n",
    "print('y_train:', y_train_p.shape)\n",
    "print('y_test:', y_test_p.shape)"
   ]
  },
  {
   "cell_type": "code",
   "execution_count": 21,
   "metadata": {},
   "outputs": [],
   "source": [
    "from sklearn import linear_model"
   ]
  },
  {
   "cell_type": "code",
   "execution_count": 22,
   "metadata": {},
   "outputs": [],
   "source": [
    "ss_1 = StandardScaler()\n",
    "\n",
    "#scale and transform the predictive dataset in both test and train forms\n",
    "X_train_sp= ss_1.fit_transform(X_train_p) # saved the mean and std from X_train\n",
    "X_test_sp=ss_1.transform(X_test_p)\n"
   ]
  },
  {
   "cell_type": "code",
   "execution_count": 23,
   "metadata": {},
   "outputs": [
    {
     "name": "stdout",
     "output_type": "stream",
     "text": [
      "Lr train score :\n",
      "0.5659703903710047\n",
      "\n",
      "Lr test score  :\n",
      "0.5634618933619608\n",
      "\n",
      "MSE: 7457.74\n",
      "\n",
      "Error : 86.36\n",
      "Variance score: 0.56\n"
     ]
    }
   ],
   "source": [
    "# Create linear regression object\n",
    "lr = LinearRegression()\n",
    "\n",
    "# Train the model using the training sets\n",
    "lr.fit(X_train_sp, y_train_p)\n",
    "lr_y_pred = lr.predict(X_test_sp)\n",
    "print(\"Lr train score :\")\n",
    "print(lr.score(X_train_sp, y_train_p))\n",
    "print('')\n",
    "print(\"Lr test score  :\")\n",
    "\n",
    "print(lr.score(X_test_sp, y_test_p))\n",
    "print('')\n",
    "print(\"MSE: %.2f\" % mean_squared_error(y_test_p, lr_y_pred))\n",
    "print('')\n",
    "price_value = mean_squared_error(y_test_p, lr_y_pred)\n",
    "print(\"Error : %.2f\" % np.sqrt(price_value))\n",
    "\n",
    "# Explained variance score: 1 is perfect prediction\n",
    "print('Variance score: %.2f' % r2_score(y_test_p, lr_y_pred))"
   ]
  },
  {
   "cell_type": "markdown",
   "metadata": {},
   "source": [
    "Price by itself seems to have be a better signal than yield"
   ]
  },
  {
   "cell_type": "markdown",
   "metadata": {},
   "source": [
    "#### Advanced Regression"
   ]
  },
  {
   "cell_type": "markdown",
   "metadata": {},
   "source": [
    "#### Ridge model with parameter tuning  "
   ]
  },
  {
   "cell_type": "markdown",
   "metadata": {},
   "source": [
    "#### Yield"
   ]
  },
  {
   "cell_type": "code",
   "execution_count": 26,
   "metadata": {},
   "outputs": [
    {
     "name": "stdout",
     "output_type": "stream",
     "text": [
      "Ridge train score :\n",
      "0.43183655733816284\n",
      "\n",
      "Ridge test score  :\n",
      "0.40708624700268203\n",
      "\n",
      " Mean squared error: 753384773.46\n",
      "\n",
      " Error : 27447.86\n",
      "\n",
      " Variance score: 0.41\n"
     ]
    }
   ],
   "source": [
    "#Use Ridge regularization to keep the same number of features, but reduce the magnitude of the coefficients\n",
    "ridge_alphas = np.logspace(0, 5, 200)\n",
    "\n",
    "optimal_ridge = RidgeCV(alphas=ridge_alphas, cv=5)\n",
    "optimal_ridge.fit(X_train_s, y_train)\n",
    "ridge_y_pred = optimal_ridge.predict(X_test_s)\n",
    "print(\"Ridge train score :\")\n",
    "print(optimal_ridge.score(X_train_s, y_train))\n",
    "print('')\n",
    "print(\"Ridge test score  :\")\n",
    "print(optimal_ridge.score(X_test_s, y_test))\n",
    "\n",
    "price_value = mean_squared_error(y_test, ridge_y_pred)\n",
    "print(\"\\n Mean squared error: %.2f\" % mean_squared_error(y_test, ridge_y_pred))\n",
    "\n",
    "print(\"\\n Error : %.2f\" % np.sqrt(price_value))\n",
    "# Explained variance score: 1 is perfect prediction\n",
    "print('\\n Variance score: %.2f' % r2_score(y_test, ridge_y_pred))\n"
   ]
  },
  {
   "cell_type": "code",
   "execution_count": 28,
   "metadata": {},
   "outputs": [
    {
     "name": "stdout",
     "output_type": "stream",
     "text": [
      "Ridge train score :\n",
      "0.5657273032612575\n",
      "\n",
      "Ridge test score  :\n",
      "0.563258681427194\n",
      "MSE: 7461.21\n",
      "Error : 86.38\n",
      "Variance score: 0.56\n"
     ]
    }
   ],
   "source": [
    "#Use Ridge regularization to keep the same number of features, but reduce the magnitude of the coefficients\n",
    "ridge_alphas = np.logspace(0, 5, 200)\n",
    "\n",
    "optimal_ridge = RidgeCV(alphas=ridge_alphas, cv=5)\n",
    "optimal_ridge.fit(X_train_sp, y_train_p)\n",
    "ridge_y_pred = optimal_ridge.predict(X_test_sp)\n",
    "print(\"Ridge train score :\")\n",
    "print(optimal_ridge.score(X_train_sp, y_train_p))\n",
    "print('')\n",
    "print(\"Ridge test score  :\")\n",
    "print(optimal_ridge.score(X_test_sp, y_test_p))\n",
    "\n",
    "price_value = mean_squared_error(y_test_p, ridge_y_pred)\n",
    "print(\"MSE: %.2f\" % mean_squared_error(y_test_p, ridge_y_pred))\n",
    "\n",
    "print(\"Error : %.2f\" % np.sqrt(price_value))\n",
    "\n",
    "# Explained variance score: 1 is perfect prediction\n",
    "print('Variance score: %.2f' % r2_score(y_test_p, ridge_y_pred))\n"
   ]
  },
  {
   "cell_type": "markdown",
   "metadata": {},
   "source": [
    "### Yield "
   ]
  },
  {
   "cell_type": "code",
   "execution_count": 32,
   "metadata": {},
   "outputs": [
    {
     "name": "stdout",
     "output_type": "stream",
     "text": [
      "Enet train score :\n",
      "-0.44400513714693535\n",
      "\n",
      "Enet test score  :\n",
      "0.4073416117585964\n",
      "MSE: 753060294.70\n",
      "Error : 27441.94\n",
      "Variance score: -65693.69\n"
     ]
    }
   ],
   "source": [
    "l1_ratios = np.linspace(0.01, 1.0, 25)\n",
    "\n",
    "optimal_enet = ElasticNetCV(l1_ratio=l1_ratios, n_alphas=100, cv=5,\n",
    "                            verbose=0)\n",
    "optimal_enet.fit(X_train_s, y_train)\n",
    "\n",
    "enet_y_pred = optimal_enet.predict(X_test_s)\n",
    "print(\"Enet train score :\")\n",
    "print(optimal_ridge.score(X_train_s, y_train))\n",
    "print('')\n",
    "print(\"Enet test score  :\")\n",
    "print(optimal_enet.score(X_test_s, y_test))\n",
    "\n",
    "price_value = mean_squared_error(y_test, enet_y_pred)\n",
    "print(\"MSE: %.2f\" % price_value)\n",
    "\n",
    "print(\"Error : %.2f\" % np.sqrt(price_value))\n",
    "\n",
    "# Explained variance score: 1 is perfect prediction\n",
    "print('Variance score: %.2f' % r2_score(y_test_p, enet_y_pred))\n"
   ]
  },
  {
   "cell_type": "code",
   "execution_count": 31,
   "metadata": {},
   "outputs": [
    {
     "data": {
      "image/png": "[encoded data removed]",
      "text/plain": [
       "<Figure size 1296x864 with 1 Axes>"
      ]
     },
     "metadata": {},
     "output_type": "display_data"
    }
   ],
   "source": [
    "#attrib: https://github.com/springcoil/Inside_AirBnb_Hacks/blob/master/airbnb_prediction.ipynb\n",
    "# Plot feature importance\n",
    "plt.figure(figsize=(18,12))\n",
    "names = X.columns.tolist()\n",
    "feature_importance = optimal_enet.coef_\n",
    "# make importances relative to max importance\n",
    "feature_importance = 100.0 * (feature_importance / feature_importance.max())\n",
    "sorted_idx = np.argsort(feature_importance)\n",
    "pos = np.arange(sorted_idx.shape[0]) + .5\n",
    "plt.subplot(1, 2, 2)\n",
    "plt.barh(pos, feature_importance[sorted_idx], align='center')\n",
    "plt.yticks(pos, names)\n",
    "plt.xlabel('Relative Importance')\n",
    "plt.title('Variable Importance NYC')\n",
    "plt.show()"
   ]
  },
  {
   "cell_type": "code",
   "execution_count": null,
   "metadata": {
    "scrolled": true
   },
   "outputs": [],
   "source": []
  },
  {
   "cell_type": "markdown",
   "metadata": {},
   "source": [
    "lr.intercept_"
   ]
  },
  {
   "cell_type": "raw",
   "metadata": {},
   "source": []
  },
  {
   "cell_type": "code",
   "execution_count": 42,
   "metadata": {},
   "outputs": [
    {
     "data": {
      "text/plain": [
       "[('number_of_reviews', 12778.456794496224),\n",
       " ('accommodates', 9770.118397083044),\n",
       " ('bathrooms', 480.7442201634786),\n",
       " ('bedrooms', 819.9994138212808),\n",
       " ('beds', 1587.5924623301144),\n",
       " ('guests_included', 1592.073931524542),\n",
       " ('extra_people', 600.8544877863666),\n",
       " ('minimum_nights', -126.56387319560793),\n",
       " ('security_deposit', 73.96064758846526),\n",
       " ('latitude', 1680.2447807646863),\n",
       " ('longitude', -4044.426306060898),\n",
       " ('ppl_bath', 109.44872740915696),\n",
       " ('guest_prop', 1766.5594515123203),\n",
       " ('DateDiffHostSince', -8590.255026806253),\n",
       " ('dist_transit', -701.9540672076258),\n",
       " ('property_type_Apartment', -0.0),\n",
       " ('property_type_Condominium', 852.417957592509),\n",
       " ('property_type_House', -1105.4064966949943),\n",
       " ('property_type_Loft', 1123.852936217006),\n",
       " ('property_type_Other', 417.18324543341026),\n",
       " ('property_type_Townhouse', -249.34250623877057),\n",
       " ('room_type_Entire home/apt', 3354.0625620366905),\n",
       " ('room_type_Private room', -0.0),\n",
       " ('room_type_Shared room', -414.4883130664928),\n",
       " ('host_is_superhost_f', -4366.662672294033),\n",
       " ('host_is_superhost_t', 1.851209827763255e-11),\n",
       " ('cancellation_policy_flexible', -592.5104623602241),\n",
       " ('cancellation_policy_moderate', -0.0),\n",
       " ('cancellation_policy_strict', -14.402359735172608),\n",
       " ('cancellation_policy_strict_14_with_grace_period', 1612.5991140439594),\n",
       " ('cancellation_policy_super_strict_30', 97.99683972694878),\n",
       " ('cancellation_policy_super_strict_60', 456.477206061093),\n",
       " ('bed_type_OTHER', -485.17593482951486),\n",
       " ('bed_type_Real Bed', 0.0)]"
      ]
     },
     "execution_count": 42,
     "metadata": {},
     "output_type": "execute_result"
    }
   ],
   "source": [
    "list(zip(X_test.columns, optimal_enet.coef_))"
   ]
  },
  {
   "cell_type": "code",
   "execution_count": 43,
   "metadata": {},
   "outputs": [],
   "source": [
    "\n",
    "import scipy.stats as st\n",
    "\n",
    "one_to_left = st.beta(10, 1)  \n",
    "from_zero_positive = st.expon(0, 50)\n",
    "\n",
    "params = {  \n",
    "    \"n_estimators\": st.randint(3, 40),\n",
    "    \"max_depth\": st.randint(3, 40),\n",
    "    \"learning_rate\": st.uniform(0.05, 0.4),\n",
    "    \"colsample_bytree\": one_to_left,\n",
    "    \"subsample\": one_to_left,\n",
    "    \"gamma\": st.uniform(0, 10),\n",
    "    'reg_alpha': from_zero_positive,\n",
    "    \"min_child_weight\": from_zero_positive,\n",
    "}\n",
    "\n",
    "xgb = XGBRegressor(nthreads=-1)  "
   ]
  },
  {
   "cell_type": "code",
   "execution_count": 44,
   "metadata": {},
   "outputs": [],
   "source": [
    "from sklearn.model_selection import RandomizedSearchCV"
   ]
  },
  {
   "cell_type": "code",
   "execution_count": 57,
   "metadata": {},
   "outputs": [
    {
     "name": "stdout",
     "output_type": "stream",
     "text": [
      "Train Score: 0.70\n",
      "Test Score: 0.62\n",
      "MSE: 478901432.32\n",
      "Error : 21883.82\n",
      "Test_Score: -80279.45\n",
      "Tuned Model Parameters: {'colsample_bytree': 0.9588800481126444, 'gamma': 9.653782733430408, 'learning_rate': 0.3575990245027289, 'max_depth': 8, 'min_child_weight': 88.86700302929117, 'n_estimators': 20, 'reg_alpha': 2.7574918111218043, 'subsample': 0.9754544624796435}\n"
     ]
    }
   ],
   "source": [
    "xgb_cv = RandomizedSearchCV(xgb, params, cv=5,n_jobs=1)\n",
    "xgb_cv.fit(X_train_s, y_train)\n",
    "\n",
    "xgb_y_pred = xgb_cv.predict(X_test_s)\n",
    "\n",
    "# The train score\n",
    "print(\"Train Score: %.2f\" % xgb_cv.score(X_train_s, y_train))\n",
    "\n",
    "# The test score\n",
    "print(\"Test Score: %.2f\" % xgb_cv.score(X_test_s, y_test))\n",
    "\n",
    "price_value = mean_squared_error(y_test, xgb_y_pred)\n",
    "print(\"MSE: %.2f\" % price_value)\n",
    "\n",
    "print(\"Error : %.2f\" % np.sqrt(price_value))\n",
    "\n",
    "\n",
    "\n",
    "# Explained variance score: 1 is perfect prediction\n",
    "print('Test_Score: %.2f' % r2_score(y_test_p, xgb_y_pred))\n",
    "# Best params\n",
    "print(\"Tuned Model Parameters: {}\".format(xgb_cv.best_params_))"
   ]
  },
  {
   "cell_type": "code",
   "execution_count": 46,
   "metadata": {},
   "outputs": [
    {
     "name": "stdout",
     "output_type": "stream",
     "text": [
      "Train Score: 0.84\n",
      "Test Score: 0.70\n",
      "MSE: 5058.61\n",
      "Error : 71.12\n",
      "Test_Score: 0.70\n",
      "Tuned Model Parameters: {'colsample_bytree': 0.994491623591146, 'gamma': 2.6897757151708213, 'learning_rate': 0.15588658625852608, 'max_depth': 37, 'min_child_weight': 35.44318769130126, 'n_estimators': 31, 'reg_alpha': 12.027891241452048, 'subsample': 0.9637123264136668}\n"
     ]
    }
   ],
   "source": [
    "xgb_cv = RandomizedSearchCV(xgb, params, cv=5,n_jobs=1)\n",
    "xgb_cv.fit(X_train_sp, y_train_p)\n",
    "\n",
    "xgb_y_pred = xgb_cv.predict(X_test_sp)\n",
    "\n",
    "# The train score\n",
    "print(\"Train Score: %.2f\" % xgb_cv.score(X_train_sp, y_train_p))\n",
    "\n",
    "# The test score\n",
    "print(\"Test Score: %.2f\" % xgb_cv.score(X_test_sp, y_test_p))\n",
    "\n",
    "price_value = mean_squared_error(y_test_p, xgb_y_pred)\n",
    "print(\"MSE: %.2f\" % price_value)\n",
    "\n",
    "print(\"Error : %.2f\" % np.sqrt(price_value))\n",
    "\n",
    "\n",
    "\n",
    "# Explained variance score: 1 is perfect prediction\n",
    "print('Test_Score: %.2f' % r2_score(y_test_p, xgb_y_pred))\n",
    "# Best params\n",
    "print(\"Tuned Model Parameters: {}\".format(xgb_cv.best_params_))"
   ]
  },
  {
   "cell_type": "code",
   "execution_count": 49,
   "metadata": {},
   "outputs": [
    {
     "data": {
      "text/plain": [
       "{'colsample_bytree': 0.994491623591146,\n",
       " 'gamma': 2.6897757151708213,\n",
       " 'learning_rate': 0.15588658625852608,\n",
       " 'max_depth': 37,\n",
       " 'min_child_weight': 35.44318769130126,\n",
       " 'n_estimators': 31,\n",
       " 'reg_alpha': 12.027891241452048,\n",
       " 'subsample': 0.9637123264136668}"
      ]
     },
     "execution_count": 49,
     "metadata": {},
     "output_type": "execute_result"
    }
   ],
   "source": [
    "xgb_cv.best_params_"
   ]
  },
  {
   "cell_type": "code",
   "execution_count": 55,
   "metadata": {},
   "outputs": [
    {
     "name": "stdout",
     "output_type": "stream",
     "text": [
      "Train Score: 0.82\n",
      "Test Score: 0.70\n",
      "MSE: 5089.33\n",
      "Error : 71.34\n",
      "Test_Score: 0.70\n"
     ]
    }
   ],
   "source": [
    "xgb= XGBRegressor(colsample_bytree = 0.994491623591146, gamma = 2.6897757151708213, \n",
    "                  learning_rate = 0.15588658625852608, max_depth = 37, \n",
    "                  min_child_weight = 43.37178810715322, n_estimators = 31, \n",
    "                  reg_alpha = 12.027891241452048, subsample = 0.9637123264136668)\n",
    "xgb.fit(X_train_s, y_train)\n",
    "xgb_y_pred = xgb.predict(X_test_s)\n",
    "\n",
    "# The train score\n",
    "print(\"Train Score: %.2f\" % xgb.score(X_train_s, y_train))\n",
    "\n",
    "# The test score\n",
    "print(\"Test Score: %.2f\" % xgb.score(X_test_s, y_test_p))\n",
    "\n",
    "price_value = mean_squared_error(y_test_p, xgb_y_pred)\n",
    "print(\"MSE: %.2f\" % price_value)\n",
    "\n",
    "print(\"Error : %.2f\" % np.sqrt(price_value))\n",
    "\n",
    "\n",
    "\n",
    "# Explained variance score: 1 is perfect prediction\n",
    "print('Test_Score: %.2f' % r2_score(y_test_p, xgb_y_pred))\n"
   ]
  },
  {
   "cell_type": "code",
   "execution_count": null,
   "metadata": {},
   "outputs": [],
   "source": []
  },
  {
   "cell_type": "code",
   "execution_count": 56,
   "metadata": {
    "scrolled": true
   },
   "outputs": [
    {
     "data": {
      "image/png": "[encoded data removed]",
      "text/plain": [
       "<Figure size 1440x864 with 1 Axes>"
      ]
     },
     "metadata": {},
     "output_type": "display_data"
    }
   ],
   "source": [
    "# Plot feature importance\n",
    "plt.figure(figsize=(20,12))\n",
    "xgb.fit(X_train_s,y_train)\n",
    "feature_importance = xgb.feature_importances_\n",
    "# make importances relative to max importance\n",
    "feature_importance = 100.0 * (feature_importance / feature_importance.max())\n",
    "sorted_idx = np.argsort(feature_importance)\n",
    "pos = np.arange(sorted_idx.shape[0]) + .5\n",
    "plt.subplot(1, 2, 2)\n",
    "plt.barh(pos, feature_importance[sorted_idx], align='center')\n",
    "plt.yticks(pos, names)\n",
    "plt.xlabel('Relative Importance')\n",
    "plt.title('Variable Importance')\n",
    "plt.show()"
   ]
  },
  {
   "cell_type": "code",
   "execution_count": 58,
   "metadata": {},
   "outputs": [
    {
     "name": "stderr",
     "output_type": "stream",
     "text": [
      "Optimization Progress:  50%|█████     | 100/200 [4:18:06<12:06:02, 435.62s/pipeline] "
     ]
    },
    {
     "name": "stdout",
     "output_type": "stream",
     "text": [
      "Generation 1 - Current best internal CV score: -5818.430840100811\n"
     ]
    },
    {
     "name": "stderr",
     "output_type": "stream",
     "text": [
      "Optimization Progress:  76%|███████▌  | 152/200 [4:37:42<34:13, 42.79s/pipeline]    "
     ]
    },
    {
     "name": "stdout",
     "output_type": "stream",
     "text": [
      "Generation 2 - Current best internal CV score: -5757.8917086915435\n"
     ]
    },
    {
     "name": "stderr",
     "output_type": "stream",
     "text": [
      "                                                                                  \r"
     ]
    },
    {
     "name": "stdout",
     "output_type": "stream",
     "text": [
      "Generation 3 - Current best internal CV score: -5687.157007483058\n",
      "\n",
      "Best pipeline: RandomForestRegressor(ExtraTreesRegressor(input_matrix, bootstrap=True, max_features=1.0, min_samples_leaf=3, min_samples_split=15, n_estimators=100), bootstrap=False, max_features=0.15000000000000002, min_samples_leaf=2, min_samples_split=9, n_estimators=100)\n",
      "-1055.0327840498617\n",
      "-5104.245441375249\n"
     ]
    },
    {
     "data": {
      "text/plain": [
       "True"
      ]
     },
     "execution_count": 58,
     "metadata": {},
     "output_type": "execute_result"
    }
   ],
   "source": [
    "#run Tpot\n",
    "\n",
    "from tpot import TPOTRegressor\n",
    "# from sklearn.model_selection import train_test_split\n",
    "# X = set_num.drop('yield',axis=1)\n",
    "# y = set_num['yield']\n",
    "# X_train, X_test, y_train, y_test = train_test_split(X, y,\n",
    "#                                                     train_size=0.75, test_size=0.25)\n",
    "\n",
    "tpot = TPOTRegressor(generations=3, population_size=50, verbosity=2,n_jobs=-1)\n",
    "tpot.fit(X_train_sp, y_train_p)\n",
    "print(tpot.score(X_train_sp, y_train_p))\n",
    "print(tpot.score(X_test_sp, y_test_p))\n",
    "tpot.export('tpot_airBnb_pipeline.py')"
   ]
  }
 ],
 "metadata": {
  "hide_input": false,
  "kernelspec": {
   "display_name": "Python 3",
   "language": "python",
   "name": "python3"
  },
  "language_info": {
   "codemirror_mode": {
    "name": "ipython",
    "version": 3
   },
   "file_extension": ".py",
   "mimetype": "text/x-python",
   "name": "python",
   "nbconvert_exporter": "python",
   "pygments_lexer": "ipython3",
   "version": "3.6.5"
  }
 },
 "nbformat": 4,
 "nbformat_minor": 2
}
