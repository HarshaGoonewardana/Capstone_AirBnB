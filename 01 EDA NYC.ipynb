{
 "cells": [
  {
   "cell_type": "markdown",
   "metadata": {
    "hide_input": true
   },
   "source": [
    "# Data Science Immersive - General Assembly \n",
    "## Tale of Two Cities - Capstone Project\n",
    "Harsha Goonewardana \n",
    "16th July 2017"
   ]
  },
  {
   "cell_type": "markdown",
   "metadata": {},
   "source": [
    "## I. Overview and motivation "
   ]
  },
  {
   "cell_type": "markdown",
   "metadata": {},
   "source": [
    "### Motivation\n",
    "\n",
    "I am perticularly interested in the dynamics of the  real estate market markets in the USA , especially with the pricing structure around short-term rentals.\n",
    "\n",
    "I treated this very noisy dataset as an opportunity to look for patterns and deploy various regression, clstering and natural language processing tools.\n",
    "\n",
    "Most data science problems do not come in neatly demarcared training and test sets. A good data scientist should be able to apply a variety of data science techniques to gain domain knowledge.  \n"
   ]
  },
  {
   "cell_type": "markdown",
   "metadata": {},
   "source": [
    "### Project Overview\n",
    "\n",
    "Airbnb is a peer to peer accommodation rental platform with 5 million listing across 191+ countries. The platform has more rooms available at a given time than top five hotel chains combined n 2018 . This project aims to first determine the feature importance of a number of variables to the rental yield followed by a deployment of a model to predict rental yields or prices.\n"
   ]
  },
  {
   "cell_type": "markdown",
   "metadata": {},
   "source": [
    "### Other Studies \n",
    "\n",
    "#### Feature selection\n",
    "While there have been a number of studies on the impact of Airbnb on property values and community cohesion, the literature on determinant of Airbnb yields are sparse. A review of the literature notes that property amenities, location, rental rules and review ratings have been identified as significant determinates of Airbnb prices  . Others have shown that geographical features such as distance to host city attractions and transit access. \n",
    "\n",
    "#### Yield as a dependent variable \n",
    "While academic research uses the listing price as the dependent variable, the approach is inadequate to capture the equilibrium price at which the transaction is made. As the supply and demand cycle needs to adjust over time , the supply-side variable necessitates the  presence of a tuning parameter. A new feature incorporating occupancy rate (estimated using length of stay and reviews) and listing price mitigates these issues and provides a more accurate measure of yield. \n"
   ]
  },
  {
   "cell_type": "markdown",
   "metadata": {},
   "source": [
    "### Problem Statement\n",
    "\n",
    "This project will identify the features which have the most statistical significance on determining property values. Within that frame, the project will further isolate the significance of descriptive, geo-spatial and other features to understand the influence of each category. \n",
    "\n",
    "A variety of predictive and inference based models  will be deployed to understand feature importance and identify factors which have the most influence on pricing decisions by hosts. \n"
   ]
  },
  {
   "cell_type": "markdown",
   "metadata": {},
   "source": [
    "### Metrics\n",
    "\n",
    "Mean squared error is used as the measure for model accuracy.  This measures the average of the square of the errors between the actual yield and predicted yield. The formula for this is as follows:\n",
    "\n",
    "<img src=\"mse.svg\">\n",
    "\n",
    "The sqrt of MSE will be used as a measure fo how far teh predictions are from the actual value."
   ]
  },
  {
   "cell_type": "markdown",
   "metadata": {},
   "source": [
    "## Data Set\n",
    "\n",
    "Following the lead from number of researchers in the field, the project uses the dataset from insideairbnb.com for New York City. A number of article have considered Inside Airbnb data to be more accurate than official Airbnb data as there have been issues with the fidelity in of the official data the past.  \n",
    "\n",
    "The Inside Airbnb dataset contains 47542 unique listing locations from on 20th January 2009 to 15 May 2018.There are 95 separate features in a variety of types and 18 have been selected for further examination (see Appendix I).\n",
    "New York Transit Authority dataset contains the longitude and latitude of each metro station within New York and will provide the distance to the closest from each Airbnb rental location.\n",
    "\n",
    "### Data Dictionary\n",
    "To keep the model manageable and effective, I will focus on the following features:\n",
    "    1. 'name': Listing header text for text mining.\n",
    "    2. 'description': Listing description text for text mining.\n",
    "    3. 'property_type': Type of property e.g. apartment, house etc.\n",
    "    4. 'room_type': Type of room e.g. private, shared etc.\n",
    "    5. 'accommodates': No. of people the listing can accommodate.\n",
    "    6. 'bathrooms': No. of bathrooms.\n",
    "    7. 'bedrooms': No. of bedrooms.\n",
    "    8. 'beds': No. of beds.\n",
    "    9. 'square_feet': Size of listing.\n",
    "    10. 'price': Price of listing.\n",
    "    11. 'cleaning_fee': Cleaning fee.\n",
    "    12. 'guests_included': No. of guests included in the base price.\n",
    "    13. 'extra_people': Price for extra guests not included in the base price.\n",
    "    14. 'minimum_nights': Minimum no. of nights required for booking.\n",
    "    15. 'availability_365': No. of nights the listing is available for booking. (Note: This is a 'leaking' feature as listings may be unavailable as it is already booked and leaks the popularity. However, this needs to be used for filtering part-time listings and will be removed at a later stage.)\n",
    "    16. 'reviews_per_month': Average no. of reviews listing receives per month. Used to calculate yield.\n",
    "    17. 'latitude': Latitude of listing.\n",
    "    18. 'longitude': Longitude of listing.\n",
    "    \n"
   ]
  },
  {
   "cell_type": "code",
   "execution_count": 1,
   "metadata": {
    "ExecuteTime": {
     "end_time": "2017-09-12T19:01:48.734137Z",
     "start_time": "2017-09-12T19:01:46.727182Z"
    },
    "hide_input": true
   },
   "outputs": [],
   "source": [
    "import pandas as pd\n",
    "import os\n",
    "import re\n",
    "import numpy as np\n",
    "import seaborn as sns\n",
    "import matplotlib as mpl\n",
    "import matplotlib.pyplot as plt\n",
    "from IPython.display import display\n",
    "pd.options.display.max_columns = None\n",
    "\n",
    "from sklearn.preprocessing import Imputer\n",
    "from sklearn.preprocessing import StandardScaler\n",
    "from sklearn.ensemble import RandomForestRegressor\n",
    "from sklearn.tree import DecisionTreeClassifier\n",
    "from sklearn.model_selection import GridSearchCV\n",
    "from sklearn.model_selection import cross_val_score\n",
    "from sklearn.model_selection import train_test_split\n",
    "from sklearn.metrics import classification_report\n",
    "from sklearn.metrics import confusion_matrix\n",
    "from sklearn.model_selection import train_test_split\n",
    "random_seed =42"
   ]
  },
  {
   "cell_type": "code",
   "execution_count": 2,
   "metadata": {},
   "outputs": [],
   "source": [
    "from haversine import haversine"
   ]
  },
  {
   "cell_type": "code",
   "execution_count": 3,
   "metadata": {
    "ExecuteTime": {
     "end_time": "2017-09-12T19:01:48.741282Z",
     "start_time": "2017-09-12T19:01:48.736472Z"
    },
    "hide_input": true
   },
   "outputs": [],
   "source": [
    "sns.set(style=\"ticks\")\n",
    "seed=42\n"
   ]
  },
  {
   "cell_type": "code",
   "execution_count": null,
   "metadata": {},
   "outputs": [],
   "source": []
  },
  {
   "cell_type": "code",
   "execution_count": 4,
   "metadata": {
    "ExecuteTime": {
     "end_time": "2017-09-12T19:01:52.216713Z",
     "start_time": "2017-09-12T19:01:48.752247Z"
    },
    "hide_input": true,
    "scrolled": true
   },
   "outputs": [
    {
     "name": "stdout",
     "output_type": "stream",
     "text": [
      "Dataset has 47542 rows, 95 columns.\n"
     ]
    }
   ],
   "source": [
    "#import Listing Datasets \n",
    "df = pd.read_csv('./data/airbnb_nyc.csv', header=0, index_col=0,low_memory=False)\n",
    "print(\"Dataset has {} rows, {} columns.\".format(*df.shape))"
   ]
  },
  {
   "cell_type": "code",
   "execution_count": 5,
   "metadata": {},
   "outputs": [
    {
     "name": "stdout",
     "output_type": "stream",
     "text": [
      "Dataset has 1868 rows, 31 columns.\n"
     ]
    }
   ],
   "source": [
    "#import Subway Datasets \n",
    "df_transit = pd.read_csv('./data/NYC_Transit_Subway_Entrance_And_Exit_Data.csv', header=0, index_col=0,low_memory=False)\n",
    "print(\"Dataset has {} rows, {} columns.\".format(*df_transit.shape))"
   ]
  },
  {
   "cell_type": "code",
   "execution_count": 6,
   "metadata": {},
   "outputs": [
    {
     "data": {
      "text/plain": [
       "host_acceptance_rate    47542\n",
       "xl_picture_url          47542\n",
       "medium_url              47542\n",
       "thumbnail_url           47542\n",
       "jurisdiction_names      47536\n",
       "license                 47532\n",
       "square_feet             47059\n",
       "monthly_price           41394\n",
       "weekly_price            39958\n",
       "notes                   29221\n",
       "dtype: int64"
      ]
     },
     "execution_count": 6,
     "metadata": {},
     "output_type": "execute_result"
    }
   ],
   "source": [
    "df.isnull().sum().sort_values(ascending=False).head(10)"
   ]
  },
  {
   "cell_type": "code",
   "execution_count": 7,
   "metadata": {},
   "outputs": [
    {
     "data": {
      "text/plain": [
       "Index(['listing_url', 'scrape_id', 'last_scraped', 'name', 'summary', 'space',\n",
       "       'description', 'experiences_offered', 'neighborhood_overview', 'notes',\n",
       "       'transit', 'access', 'interaction', 'house_rules', 'thumbnail_url',\n",
       "       'medium_url', 'picture_url', 'xl_picture_url', 'host_id', 'host_url',\n",
       "       'host_name', 'host_since', 'host_location', 'host_about',\n",
       "       'host_response_time', 'host_response_rate', 'host_acceptance_rate',\n",
       "       'host_is_superhost', 'host_thumbnail_url', 'host_picture_url',\n",
       "       'host_neighbourhood', 'host_listings_count',\n",
       "       'host_total_listings_count', 'host_verifications',\n",
       "       'host_has_profile_pic', 'host_identity_verified', 'street',\n",
       "       'neighbourhood', 'neighbourhood_cleansed',\n",
       "       'neighbourhood_group_cleansed', 'city', 'state', 'zipcode', 'market',\n",
       "       'smart_location', 'country_code', 'country', 'latitude', 'longitude',\n",
       "       'is_location_exact', 'property_type', 'room_type', 'accommodates',\n",
       "       'bathrooms', 'bedrooms', 'beds', 'bed_type', 'amenities', 'square_feet',\n",
       "       'price', 'weekly_price', 'monthly_price', 'security_deposit',\n",
       "       'cleaning_fee', 'guests_included', 'extra_people', 'minimum_nights',\n",
       "       'maximum_nights', 'calendar_updated', 'has_availability',\n",
       "       'availability_30', 'availability_60', 'availability_90',\n",
       "       'availability_365', 'calendar_last_scraped', 'number_of_reviews',\n",
       "       'first_review', 'last_review', 'review_scores_rating',\n",
       "       'review_scores_accuracy', 'review_scores_cleanliness',\n",
       "       'review_scores_checkin', 'review_scores_communication',\n",
       "       'review_scores_location', 'review_scores_value', 'requires_license',\n",
       "       'license', 'jurisdiction_names', 'instant_bookable',\n",
       "       'is_business_travel_ready', 'cancellation_policy',\n",
       "       'require_guest_profile_picture', 'require_guest_phone_verification',\n",
       "       'calculated_host_listings_count', 'reviews_per_month'],\n",
       "      dtype='object')"
      ]
     },
     "execution_count": 7,
     "metadata": {},
     "output_type": "execute_result"
    }
   ],
   "source": [
    "df.columns\n",
    "\n"
   ]
  },
  {
   "cell_type": "markdown",
   "metadata": {},
   "source": [
    "#### Select a subset of features as the first level of dimensionality reduction"
   ]
  },
  {
   "cell_type": "markdown",
   "metadata": {},
   "source": [
    "### Identify noisy data types"
   ]
  },
  {
   "cell_type": "markdown",
   "metadata": {},
   "source": [
    "#### Missing Values###\n",
    "price and cleaning_fees are dependant variables so any rows without these variables will be dropped.\n",
    "\n",
    "the missing values in security deposit, cleaning fee features may mean that the value is zero. This was confirmed by launching the urls from a subset of listings with null cleaning values to confirm that the cleaning fee is indeed zero."
   ]
  },
  {
   "cell_type": "code",
   "execution_count": 8,
   "metadata": {},
   "outputs": [
    {
     "data": {
      "text/plain": [
       "listing_url                             0\n",
       "scrape_id                               0\n",
       "last_scraped                            0\n",
       "name                                   27\n",
       "summary                              1327\n",
       "space                               15016\n",
       "description                            91\n",
       "experiences_offered                     0\n",
       "neighborhood_overview               19072\n",
       "notes                               29221\n",
       "transit                             17631\n",
       "access                              19582\n",
       "interaction                         20736\n",
       "house_rules                         19076\n",
       "thumbnail_url                       47542\n",
       "medium_url                          47542\n",
       "picture_url                             0\n",
       "xl_picture_url                      47542\n",
       "host_id                                 0\n",
       "host_url                                0\n",
       "host_name                              22\n",
       "host_since                             22\n",
       "host_location                         172\n",
       "host_about                          18473\n",
       "host_response_time                  16530\n",
       "host_response_rate                  16530\n",
       "host_acceptance_rate                47542\n",
       "host_is_superhost                      22\n",
       "host_thumbnail_url                     22\n",
       "host_picture_url                       22\n",
       "                                    ...  \n",
       "extra_people                            0\n",
       "minimum_nights                          0\n",
       "maximum_nights                          0\n",
       "calendar_updated                        0\n",
       "has_availability                        0\n",
       "availability_30                         0\n",
       "availability_60                         0\n",
       "availability_90                         0\n",
       "availability_365                        0\n",
       "calendar_last_scraped                   0\n",
       "number_of_reviews                       0\n",
       "first_review                         9751\n",
       "last_review                          9735\n",
       "review_scores_rating                10872\n",
       "review_scores_accuracy              10933\n",
       "review_scores_cleanliness           10915\n",
       "review_scores_checkin               10967\n",
       "review_scores_communication         10919\n",
       "review_scores_location              10977\n",
       "review_scores_value                 10974\n",
       "requires_license                        0\n",
       "license                             47532\n",
       "jurisdiction_names                  47536\n",
       "instant_bookable                        0\n",
       "is_business_travel_ready                0\n",
       "cancellation_policy                     0\n",
       "require_guest_profile_picture           0\n",
       "require_guest_phone_verification        0\n",
       "calculated_host_listings_count          0\n",
       "reviews_per_month                    9751\n",
       "Length: 95, dtype: int64"
      ]
     },
     "execution_count": 8,
     "metadata": {},
     "output_type": "execute_result"
    }
   ],
   "source": [
    "df.isnull().sum()"
   ]
  },
  {
   "cell_type": "code",
   "execution_count": 9,
   "metadata": {},
   "outputs": [],
   "source": [
    "#attribution Ben Shaver \n",
    "import webbrowser\n",
    "for i in range(5):\n",
    "    url = df.sort_values(by='security_deposit', ascending=True).iloc[i]['listing_url']\n",
    "    webbrowser.open(url)"
   ]
  },
  {
   "cell_type": "code",
   "execution_count": 10,
   "metadata": {
    "ExecuteTime": {
     "end_time": "2017-09-12T19:01:52.234600Z",
     "start_time": "2017-09-12T19:01:52.218768Z"
    },
    "scrolled": true
   },
   "outputs": [
    {
     "name": "stdout",
     "output_type": "stream",
     "text": [
      "Dataset has 47542 rows, 24 columns.\n"
     ]
    }
   ],
   "source": [
    "#Keep selected features\n",
    "\n",
    "keep = [\n",
    "    'description','number_of_reviews', \n",
    "    'property_type', 'room_type', 'accommodates',\n",
    "    'bathrooms', 'bedrooms', 'beds',\n",
    "    'price', 'cleaning_fee', 'guests_included', 'extra_people', \n",
    "    'minimum_nights','security_deposit','amenities','house_rules',\n",
    "    'host_since','host_is_superhost','cancellation_policy',\n",
    "    'neighbourhood_cleansed', 'reviews_per_month', 'latitude', 'longitude', 'bed_type'\n",
    "]\n",
    "df = df[keep]\n",
    "print(\"Dataset has {} rows, {} columns.\".format(*df.shape))\n"
   ]
  },
  {
   "cell_type": "code",
   "execution_count": 11,
   "metadata": {},
   "outputs": [],
   "source": [
    "# a sample of listings with null values in the cleaning category showed that these do not have a cleaning fee listed\n",
    "# therefore I filled the nan values with  0\n",
    "df.dropna(subset=['reviews_per_month','price'],axis=0,inplace=True)\n",
    "df.cleaning_fee.fillna(0,inplace=True)\n",
    "df.host_is_superhost.fillna('t',inplace=True)\n",
    "df.security_deposit.fillna(0,inplace=True)\n",
    "df.host_since.dropna(inplace=True)"
   ]
  },
  {
   "cell_type": "code",
   "execution_count": 12,
   "metadata": {
    "ExecuteTime": {
     "end_time": "2017-09-12T19:02:02.007272Z",
     "start_time": "2017-09-12T19:02:01.998723Z"
    }
   },
   "outputs": [],
   "source": [
    "#Missing values imputer from https://gist.github.com/EricTing/7353d70198a3a09d1220\n",
    "\n",
    "from sklearn.base import TransformerMixin\n",
    "\n",
    "class DataFrameImputer(TransformerMixin):\n",
    "\n",
    "    def __init__(self):\n",
    "        \"\"\"Impute missing values.\n",
    "\n",
    "        Columns of dtype object are imputed with the most frequent value \n",
    "        in column.\n",
    "\n",
    "        Columns of other types are imputed with mean of column.\n",
    "\n",
    "        \"\"\"\n",
    "    def fit(self, X, y=None):\n",
    "\n",
    "        self.fill = pd.Series([X[c].value_counts().index[0]\n",
    "            if X[c].dtype == np.dtype('O') else X[c].mean() for c in X],\n",
    "            index=X.columns)\n",
    "\n",
    "        return self\n",
    "\n",
    "    def transform(self, X, y=None):\n",
    "        return X.fillna(self.fill)"
   ]
  },
  {
   "cell_type": "code",
   "execution_count": 13,
   "metadata": {},
   "outputs": [],
   "source": [
    "def identify_features():\n",
    "    obs = df.select_dtypes(include=['object']).columns\n",
    "\n",
    "    num = df.select_dtypes(include=[np.number]).columns\n",
    "\n",
    "    print('There are {} categorical features'.format(len(obs)))\n",
    "    print(obs)\n",
    "\n",
    "    print('\\n There are {} numerical features'.format(len(num)))\n",
    "    return(obs,num)"
   ]
  },
  {
   "cell_type": "code",
   "execution_count": 14,
   "metadata": {},
   "outputs": [
    {
     "name": "stdout",
     "output_type": "stream",
     "text": [
      "There are 14 categorical features\n",
      "Index(['description', 'property_type', 'room_type', 'price', 'cleaning_fee',\n",
      "       'extra_people', 'security_deposit', 'amenities', 'house_rules',\n",
      "       'host_since', 'host_is_superhost', 'cancellation_policy',\n",
      "       'neighbourhood_cleansed', 'bed_type'],\n",
      "      dtype='object')\n",
      "\n",
      " There are 10 numerical features\n"
     ]
    },
    {
     "data": {
      "text/plain": [
       "(Index(['description', 'property_type', 'room_type', 'price', 'cleaning_fee',\n",
       "        'extra_people', 'security_deposit', 'amenities', 'house_rules',\n",
       "        'host_since', 'host_is_superhost', 'cancellation_policy',\n",
       "        'neighbourhood_cleansed', 'bed_type'],\n",
       "       dtype='object'),\n",
       " Index(['number_of_reviews', 'accommodates', 'bathrooms', 'bedrooms', 'beds',\n",
       "        'guests_included', 'minimum_nights', 'reviews_per_month', 'latitude',\n",
       "        'longitude'],\n",
       "       dtype='object'))"
      ]
     },
     "execution_count": 14,
     "metadata": {},
     "output_type": "execute_result"
    }
   ],
   "source": [
    "identify_features()"
   ]
  },
  {
   "cell_type": "code",
   "execution_count": 15,
   "metadata": {
    "ExecuteTime": {
     "end_time": "2017-09-12T19:01:52.635234Z",
     "start_time": "2017-09-12T19:01:52.236503Z"
    },
    "scrolled": true
   },
   "outputs": [
    {
     "name": "stdout",
     "output_type": "stream",
     "text": [
      "Dataset has 37791 rows, 24 columns.\n",
      "There are 10 categorical features\n",
      "Index(['description', 'property_type', 'room_type', 'amenities', 'house_rules',\n",
      "       'host_since', 'host_is_superhost', 'cancellation_policy',\n",
      "       'neighbourhood_cleansed', 'bed_type'],\n",
      "      dtype='object')\n",
      "\n",
      " There are 14 numerical features\n"
     ]
    },
    {
     "data": {
      "text/plain": [
       "(Index(['description', 'property_type', 'room_type', 'amenities', 'house_rules',\n",
       "        'host_since', 'host_is_superhost', 'cancellation_policy',\n",
       "        'neighbourhood_cleansed', 'bed_type'],\n",
       "       dtype='object'),\n",
       " Index(['number_of_reviews', 'accommodates', 'bathrooms', 'bedrooms', 'beds',\n",
       "        'price', 'cleaning_fee', 'guests_included', 'extra_people',\n",
       "        'minimum_nights', 'security_deposit', 'reviews_per_month', 'latitude',\n",
       "        'longitude'],\n",
       "       dtype='object'))"
      ]
     },
     "execution_count": 15,
     "metadata": {},
     "output_type": "execute_result"
    }
   ],
   "source": [
    "# Clean numeric fields\n",
    "# price, cleaning fees, host response rate are miscategorized as categorical and needs to be reassigned \n",
    "df['price'] = df['price'].replace({'\\$': '',',':''}, regex=True)\n",
    "df['price']=df['price'].astype('float32')\n",
    "\n",
    "df['extra_people'] = df['extra_people'].replace({'\\$': '',',':''}, regex=True)\n",
    "df['extra_people']=df['extra_people'].apply(pd.to_numeric, errors='coerce')\n",
    "\n",
    "df['cleaning_fee'] = df['cleaning_fee'].replace({'\\$': '',',':''}, regex=True)\n",
    "df['cleaning_fee']=df['cleaning_fee'].astype('float32')\n",
    "\n",
    "df['security_deposit'] = df['security_deposit'].replace({'\\$': '',',':''}, regex=True)\n",
    "df['security_deposit']=df['security_deposit'].astype('float32')\n",
    "\n",
    "print(\"Dataset has {} rows, {} columns.\".format(*df.shape))\n",
    "\n",
    "\n",
    "identify_features()\n"
   ]
  },
  {
   "cell_type": "code",
   "execution_count": 16,
   "metadata": {},
   "outputs": [],
   "source": [
    "df.reset_index(drop=True,inplace=True)\n"
   ]
  },
  {
   "cell_type": "code",
   "execution_count": 17,
   "metadata": {},
   "outputs": [
    {
     "data": {
      "text/plain": [
       "RangeIndex(start=0, stop=37791, step=1)"
      ]
     },
     "execution_count": 17,
     "metadata": {},
     "output_type": "execute_result"
    }
   ],
   "source": [
    "df.index"
   ]
  },
  {
   "cell_type": "code",
   "execution_count": 18,
   "metadata": {},
   "outputs": [
    {
     "name": "stdout",
     "output_type": "stream",
     "text": [
      "Dataset has 37791 rows, 24 columns.\n"
     ]
    }
   ],
   "source": [
    "# Impute most frequent for categorical features\n",
    "categorical_feats = df.select_dtypes(include=['object']).columns\n",
    "df[categorical_feats] = DataFrameImputer().fit_transform(df[categorical_feats])\n",
    "\n",
    "# Impute median for numerical features\n",
    "num_feats = df.select_dtypes(include=[np.number]).columns\n",
    "imp = Imputer(missing_values=np.nan, strategy='median', axis=0)\n",
    "df[num_feats] = imp.fit_transform(df[num_feats])\n",
    "\n",
    "print(\"Dataset has {} rows, {} columns.\".format(*df.shape))"
   ]
  },
  {
   "cell_type": "markdown",
   "metadata": {},
   "source": [
    "## Feature Engineering"
   ]
  },
  {
   "cell_type": "markdown",
   "metadata": {},
   "source": [
    "**Outlier detection and mitigation **"
   ]
  },
  {
   "cell_type": "code",
   "execution_count": 19,
   "metadata": {},
   "outputs": [
    {
     "data": {
      "image/png": "[encoded data removed]",
      "text/plain": [
       "<Figure size 1008x288 with 1 Axes>"
      ]
     },
     "metadata": {},
     "output_type": "display_data"
    }
   ],
   "source": [
    "#Accomodation size\n",
    "df.accommodates.hist(bins=75, rwidth=.8, figsize=(14,4))\n",
    "plt.title('Accomodation variance')\n",
    "plt.show()"
   ]
  },
  {
   "cell_type": "markdown",
   "metadata": {},
   "source": [
    "Properties which can accomodate more than 10 people are similar to commercial accomodation providers than to private residences so are candidates for outlier removal "
   ]
  },
  {
   "cell_type": "code",
   "execution_count": 20,
   "metadata": {},
   "outputs": [
    {
     "name": "stderr",
     "output_type": "stream",
     "text": [
      "/Users/admin/anaconda3/envs/dsi/lib/python3.6/site-packages/matplotlib/axes/_axes.py:6462: UserWarning: The 'normed' kwarg is deprecated, and has been replaced by the 'density' kwarg.\n",
      "  warnings.warn(\"The 'normed' kwarg is deprecated, and has been \"\n",
      "/Users/admin/anaconda3/envs/dsi/lib/python3.6/site-packages/matplotlib/axes/_axes.py:6462: UserWarning: The 'normed' kwarg is deprecated, and has been replaced by the 'density' kwarg.\n",
      "  warnings.warn(\"The 'normed' kwarg is deprecated, and has been \"\n"
     ]
    },
    {
     "data": {
      "image/png": "[encoded data removed]",
      "text/plain": [
       "<Figure size 1152x288 with 2 Axes>"
      ]
     },
     "metadata": {},
     "output_type": "display_data"
    }
   ],
   "source": [
    "# analyse explanatory variables \n",
    "fig, axs = plt.subplots(ncols=2, figsize=(16, 4))\n",
    "fig.suptitle('Distribution of variables for calculation of yield')\n",
    "x_axis=df['price'].dropna()\n",
    "sns.distplot(pd.Series(x_axis, name=x_axis.name), ax=axs[0])\n",
    "x_axis=df['reviews_per_month'].dropna()\n",
    "sns.distplot(pd.Series(x_axis, name=x_axis.name), ax=axs[1]);\n",
    "\n"
   ]
  },
  {
   "cell_type": "markdown",
   "metadata": {},
   "source": [
    "Both these variables show high skew so are candidates for oulier removal techniques"
   ]
  },
  {
   "cell_type": "markdown",
   "metadata": {},
   "source": []
  },
  {
   "cell_type": "markdown",
   "metadata": {},
   "source": [
    "#### Removing outliers in price and reviews per month\n",
    "Relatively high rental prices and number of reviews were removed to mitigate the effects of very expensive properties and properties which have high turnover(e.g. commercial accomodation features)  which are atypical of a typical airbnb rental profile.\n",
    "\n",
    "The top .1% of the price variable was removed to mitigate the influence of very high priced rentals \n",
    "\n",
    "Average reviews per month was capped to 30 days "
   ]
  },
  {
   "cell_type": "code",
   "execution_count": 21,
   "metadata": {
    "ExecuteTime": {
     "end_time": "2017-09-12T19:01:53.801820Z",
     "start_time": "2017-09-12T19:01:53.238787Z"
    }
   },
   "outputs": [
    {
     "name": "stderr",
     "output_type": "stream",
     "text": [
      "/Users/admin/anaconda3/envs/dsi/lib/python3.6/site-packages/matplotlib/axes/_axes.py:6462: UserWarning: The 'normed' kwarg is deprecated, and has been replaced by the 'density' kwarg.\n",
      "  warnings.warn(\"The 'normed' kwarg is deprecated, and has been \"\n",
      "/Users/admin/anaconda3/envs/dsi/lib/python3.6/site-packages/matplotlib/axes/_axes.py:6462: UserWarning: The 'normed' kwarg is deprecated, and has been replaced by the 'density' kwarg.\n",
      "  warnings.warn(\"The 'normed' kwarg is deprecated, and has been \"\n"
     ]
    },
    {
     "name": "stdout",
     "output_type": "stream",
     "text": [
      "Dataset has 37753 rows, 24 columns.\n"
     ]
    },
    {
     "data": {
      "image/png": "[encoded data removed]",
      "text/plain": [
       "<Figure size 1152x288 with 2 Axes>"
      ]
     },
     "metadata": {},
     "output_type": "display_data"
    }
   ],
   "source": [
    "#attribution https://github.com/joaeechew\n",
    "#Distribution of price\n",
    "%matplotlib inline\n",
    "\n",
    "fig, axs = plt.subplots(ncols=2, figsize=(16, 4))\n",
    "fig.suptitle('Distribution of price (before and after removing listing in the top 1%)', weight='bold', fontsize=12)\n",
    "\n",
    "# Before cleaning\n",
    "x_axis=df['price'].dropna()\n",
    "sns.distplot(pd.Series(x_axis, name='Prices (before cleaning)'), ax=axs[0])\n",
    "\n",
    "# Remove where price > top 1%\n",
    "\n",
    "p_out=df.price.quantile(.999)\n",
    "df=df[df['price']<p_out]\n",
    "\n",
    "\n",
    "print(\"Dataset has {} rows, {} columns.\".format(*df.shape))\n",
    "\n",
    "#After cleaning\n",
    "x_axis=df['price'].dropna()\n",
    "sns.distplot(pd.Series(x_axis, name='Prices (after cleaning)'), ax=axs[1]);"
   ]
  },
  {
   "cell_type": "code",
   "execution_count": 22,
   "metadata": {},
   "outputs": [
    {
     "name": "stderr",
     "output_type": "stream",
     "text": [
      "/Users/admin/anaconda3/envs/dsi/lib/python3.6/site-packages/matplotlib/axes/_axes.py:6462: UserWarning: The 'normed' kwarg is deprecated, and has been replaced by the 'density' kwarg.\n",
      "  warnings.warn(\"The 'normed' kwarg is deprecated, and has been \"\n",
      "/Users/admin/anaconda3/envs/dsi/lib/python3.6/site-packages/matplotlib/axes/_axes.py:6462: UserWarning: The 'normed' kwarg is deprecated, and has been replaced by the 'density' kwarg.\n",
      "  warnings.warn(\"The 'normed' kwarg is deprecated, and has been \"\n"
     ]
    },
    {
     "data": {
      "image/png": "[encoded data removed]",
      "text/plain": [
       "<Figure size 1152x288 with 2 Axes>"
      ]
     },
     "metadata": {},
     "output_type": "display_data"
    }
   ],
   "source": [
    "#Reexamine the explanatory variables for skew\n",
    "\n",
    "# analyse explanatory variables \n",
    "fig, axs = plt.subplots(ncols=2, figsize=(16, 4))\n",
    "fig.suptitle('Distribution of variables for calculation of yield')\n",
    "x_axis=df['reviews_per_month'].dropna()\n",
    "sns.distplot(pd.Series(x_axis, name=x_axis.name), ax=axs[0])\n",
    "x_axis=df['reviews_per_month'].dropna()\n",
    "sns.distplot(pd.Series(x_axis, name=x_axis.name), ax=axs[1]);\n"
   ]
  },
  {
   "cell_type": "code",
   "execution_count": 23,
   "metadata": {
    "scrolled": true
   },
   "outputs": [
    {
     "name": "stderr",
     "output_type": "stream",
     "text": [
      "/Users/admin/anaconda3/envs/dsi/lib/python3.6/site-packages/matplotlib/axes/_axes.py:6462: UserWarning: The 'normed' kwarg is deprecated, and has been replaced by the 'density' kwarg.\n",
      "  warnings.warn(\"The 'normed' kwarg is deprecated, and has been \"\n",
      "/Users/admin/anaconda3/envs/dsi/lib/python3.6/site-packages/matplotlib/axes/_axes.py:6462: UserWarning: The 'normed' kwarg is deprecated, and has been replaced by the 'density' kwarg.\n",
      "  warnings.warn(\"The 'normed' kwarg is deprecated, and has been \"\n"
     ]
    },
    {
     "name": "stdout",
     "output_type": "stream",
     "text": [
      "Dataset has 37751 rows, 24 columns.\n"
     ]
    },
    {
     "data": {
      "image/png": "[encoded data removed]",
      "text/plain": [
       "<Figure size 1152x288 with 2 Axes>"
      ]
     },
     "metadata": {},
     "output_type": "display_data"
    }
   ],
   "source": [
    "#Distribution of reviews per month\n",
    "%matplotlib inline\n",
    "\n",
    "fig, axs = plt.subplots(ncols=2, figsize=(16, 4))\n",
    "fig.suptitle('Distribution of reviews per month (before and after removing reviews per month in the top 1%)', weight='bold', fontsize=12)\n",
    "\n",
    "# Before cleaning\n",
    "x_axis=df['price'].dropna()\n",
    "sns.distplot(pd.Series(x_axis, name='Distribution of reviews per month (before cleaning)'), ax=axs[0])\n",
    "\n",
    "# Remove where reviews per month> top 1%\n",
    "\n",
    "p_p=30 # to remove listing with more reviews per month than days in a month \n",
    "df= df[df[\"reviews_per_month\"]<p_p]\n",
    "\n",
    "\n",
    "print(\"Dataset has {} rows, {} columns.\".format(*df.shape))\n",
    "\n",
    "#After cleaning\n",
    "x_axis=df['reviews_per_month'].dropna()\n",
    "sns.distplot(pd.Series(x_axis, name='reviews per month (after cleaning)'), ax=axs[1]);"
   ]
  },
  {
   "cell_type": "code",
   "execution_count": 24,
   "metadata": {
    "scrolled": true
   },
   "outputs": [
    {
     "name": "stderr",
     "output_type": "stream",
     "text": [
      "/Users/admin/anaconda3/envs/dsi/lib/python3.6/site-packages/matplotlib/axes/_axes.py:6462: UserWarning: The 'normed' kwarg is deprecated, and has been replaced by the 'density' kwarg.\n",
      "  warnings.warn(\"The 'normed' kwarg is deprecated, and has been \"\n",
      "/Users/admin/anaconda3/envs/dsi/lib/python3.6/site-packages/matplotlib/axes/_axes.py:6462: UserWarning: The 'normed' kwarg is deprecated, and has been replaced by the 'density' kwarg.\n",
      "  warnings.warn(\"The 'normed' kwarg is deprecated, and has been \"\n"
     ]
    },
    {
     "name": "stdout",
     "output_type": "stream",
     "text": [
      "Dataset has 37260 rows, 24 columns.\n"
     ]
    },
    {
     "data": {
      "image/png": "[encoded data removed]",
      "text/plain": [
       "<Figure size 1152x288 with 2 Axes>"
      ]
     },
     "metadata": {},
     "output_type": "display_data"
    }
   ],
   "source": [
    "\n",
    "#Distribution of accomodation capacity\n",
    "%matplotlib inline\n",
    "\n",
    "fig, axs = plt.subplots(ncols=2, figsize=(16, 4))\n",
    "fig.suptitle('Distribution of max guests (before and after removing large listings > 10)', weight='bold', fontsize=12)\n",
    "\n",
    "# Before cleaning\n",
    "x_axis=df['accommodates'].dropna()\n",
    "sns.distplot(pd.Series(x_axis, name='Max guests (before cleaning)'), ax=axs[0])\n",
    "\n",
    "# Remove where price > 1000\n",
    "df=df[df['accommodates']<10]\n",
    "print(\"Dataset has {} rows, {} columns.\".format(*df.shape))\n",
    "\n",
    "#After cleaning\n",
    "x_axis=df['accommodates'].dropna()\n",
    "sns.distplot(pd.Series(x_axis, name='Max guests (after cleaning)'), ax=axs[1]);"
   ]
  },
  {
   "cell_type": "markdown",
   "metadata": {},
   "source": [
    "#### Create derived variables \n",
    "\n",
    "1. persons per bathroom\n",
    "2. guests as a proportion fo capacity\n"
   ]
  },
  {
   "cell_type": "code",
   "execution_count": 25,
   "metadata": {},
   "outputs": [],
   "source": [
    "# Create a bathrooms per guest variable \n",
    "df['ppl_bath']=df['bathrooms']/df['guests_included']\n",
    "df['guest_prop'] = df['guests_included']/df['accommodates']"
   ]
  },
  {
   "cell_type": "markdown",
   "metadata": {},
   "source": [
    "#### Aggregating variable values \n",
    "1. reduce dimensionality \n",
    "2. convert noise in to signal"
   ]
  },
  {
   "cell_type": "markdown",
   "metadata": {},
   "source": [
    "##### Property Types "
   ]
  },
  {
   "cell_type": "code",
   "execution_count": 26,
   "metadata": {
    "ExecuteTime": {
     "end_time": "2017-09-12T19:01:54.428864Z",
     "start_time": "2017-09-12T19:01:54.408928Z"
    }
   },
   "outputs": [
    {
     "data": {
      "text/plain": [
       "Apartment             0.824799\n",
       "House                 0.073188\n",
       "Townhouse             0.031133\n",
       "Loft                  0.029791\n",
       "Condominium           0.017901\n",
       "Serviced apartment    0.005717\n",
       "Guest suite           0.004563\n",
       "Other                 0.003462\n",
       "Bed and breakfast     0.002067\n",
       "Resort                0.001691\n",
       "Boutique hotel        0.001449\n",
       "Guesthouse            0.000939\n",
       "Hostel                0.000913\n",
       "Hotel                 0.000537\n",
       "Bungalow              0.000537\n",
       "Villa                 0.000376\n",
       "Tiny house            0.000242\n",
       "Aparthotel            0.000161\n",
       "Cottage               0.000107\n",
       "Nature lodge          0.000081\n",
       "Name: property_type, dtype: float64"
      ]
     },
     "execution_count": 26,
     "metadata": {},
     "output_type": "execute_result"
    }
   ],
   "source": [
    "df['property_type'].value_counts(normalize=True).head(20)"
   ]
  },
  {
   "cell_type": "markdown",
   "metadata": {},
   "source": [
    "I consolidated the property types with less than 1% representation into the other category "
   ]
  },
  {
   "cell_type": "code",
   "execution_count": 27,
   "metadata": {},
   "outputs": [
    {
     "name": "stderr",
     "output_type": "stream",
     "text": [
      "/Users/admin/anaconda3/envs/dsi/lib/python3.6/site-packages/pandas/core/indexing.py:189: SettingWithCopyWarning: \n",
      "A value is trying to be set on a copy of a slice from a DataFrame\n",
      "\n",
      "See the caveats in the documentation: http://pandas.pydata.org/pandas-docs/stable/indexing.html#indexing-view-versus-copy\n",
      "  self._setitem_with_indexer(indexer, value)\n"
     ]
    }
   ],
   "source": [
    "#select types less than 1 percent for aggregation\n",
    "var = df.property_type.value_counts(normalize=True)\n",
    "rename =var[var < 0.009].index\n",
    "\n",
    "df['property_type'].loc[df['property_type'].isin(rename)] = 'Other'"
   ]
  },
  {
   "cell_type": "code",
   "execution_count": 28,
   "metadata": {},
   "outputs": [
    {
     "data": {
      "image/png": "[encoded data removed]",
      "text/plain": [
       "<Figure size 432x288 with 1 Axes>"
      ]
     },
     "metadata": {},
     "output_type": "display_data"
    }
   ],
   "source": [
    "#\n",
    "df.groupby('property_type')['price'].mean(\n",
    ").sort_values(ascending=False)[:10].plot(kind='bar');"
   ]
  },
  {
   "cell_type": "markdown",
   "metadata": {},
   "source": [
    "##### Lofts seem to be the most expensive rentals on average"
   ]
  },
  {
   "cell_type": "markdown",
   "metadata": {},
   "source": [
    "#### Bed Types"
   ]
  },
  {
   "cell_type": "code",
   "execution_count": 29,
   "metadata": {},
   "outputs": [
    {
     "data": {
      "text/plain": [
       "Real Bed         0.976704\n",
       "Futon            0.008884\n",
       "Pull-out Sofa    0.007354\n",
       "Airbed           0.004992\n",
       "Couch            0.002067\n",
       "Name: bed_type, dtype: float64"
      ]
     },
     "execution_count": 29,
     "metadata": {},
     "output_type": "execute_result"
    }
   ],
   "source": [
    "df['bed_type'].value_counts(normalize=True).head(20)"
   ]
  },
  {
   "cell_type": "code",
   "execution_count": 30,
   "metadata": {},
   "outputs": [
    {
     "data": {
      "image/png": "[encoded data removed]",
      "text/plain": [
       "<Figure size 432x288 with 1 Axes>"
      ]
     },
     "metadata": {},
     "output_type": "display_data"
    }
   ],
   "source": [
    "df.groupby('bed_type')['price'].mean(\n",
    ").sort_values(ascending=False)[:10].plot(kind='bar');"
   ]
  },
  {
   "cell_type": "code",
   "execution_count": 31,
   "metadata": {},
   "outputs": [
    {
     "data": {
      "image/png": "[encoded data removed]",
      "text/plain": [
       "<Figure size 432x288 with 1 Axes>"
      ]
     },
     "metadata": {},
     "output_type": "display_data"
    }
   ],
   "source": [
    "#bed or not bed?\n",
    "df['bed_type'] = [type_ if type_ in ['Real Bed']\n",
    "                      else \"OTHER\" for type_ in df['bed_type']]\n",
    "\n",
    "df.groupby('bed_type')['price'].mean(\n",
    ").sort_values(ascending=False)[:10].plot(kind='bar');"
   ]
  },
  {
   "cell_type": "markdown",
   "metadata": {},
   "source": [
    "### Calculation of yield"
   ]
  },
  {
   "cell_type": "code",
   "execution_count": 32,
   "metadata": {
    "ExecuteTime": {
     "end_time": "2017-09-12T19:01:55.153458Z",
     "start_time": "2017-09-12T19:01:55.137603Z"
    }
   },
   "outputs": [
    {
     "name": "stdout",
     "output_type": "stream",
     "text": [
      "The mean yield is $ 24159.42116242619\n",
      "The mean price is $ 178.6024154589372\n"
     ]
    }
   ],
   "source": [
    "#http://commissions.sfplanning.org/cpcpackets/2014-001033PCA.pdf & https://www.inc.com/sonya-mann/airbnb-nightmare-experiences.html\n",
    "\n",
    "avg_length_of_stay = 6.4\n",
    "review_rate = 0.75\n",
    "df['price'] = df['price'] + df['cleaning_fee']\n",
    "df['bnb_yield'] = avg_length_of_stay * df['price'] * (df['reviews_per_month'] / review_rate) * 12\n",
    "df.drop(['cleaning_fee'],axis=1,inplace=True)\n",
    "print(\"The mean yield is $ {}\".format(df.bnb_yield.mean()))\n",
    "print(\"The mean price is $ {}\".format(df.price.mean()))"
   ]
  },
  {
   "cell_type": "code",
   "execution_count": 33,
   "metadata": {
    "ExecuteTime": {
     "end_time": "2017-09-12T19:01:55.486208Z",
     "start_time": "2017-09-12T19:01:55.155387Z"
    }
   },
   "outputs": [
    {
     "name": "stderr",
     "output_type": "stream",
     "text": [
      "/Users/admin/anaconda3/envs/dsi/lib/python3.6/site-packages/matplotlib/axes/_axes.py:6462: UserWarning: The 'normed' kwarg is deprecated, and has been replaced by the 'density' kwarg.\n",
      "  warnings.warn(\"The 'normed' kwarg is deprecated, and has been \"\n"
     ]
    },
    {
     "data": {
      "image/png": "[encoded data removed]",
      "text/plain": [
       "<Figure size 1080x432 with 1 Axes>"
      ]
     },
     "metadata": {},
     "output_type": "display_data"
    }
   ],
   "source": [
    "%matplotlib inline\n",
    "fig, ax = plt.subplots(figsize=(15,6))\n",
    "fig.suptitle('Distribution of Yield')\n",
    "x_axis = df['bnb_yield'].dropna()\n",
    "x = pd.Series(x_axis, name=x_axis.name)\n",
    "ax = sns.distplot(x)"
   ]
  },
  {
   "cell_type": "code",
   "execution_count": 34,
   "metadata": {},
   "outputs": [
    {
     "data": {
      "text/plain": [
       "count     37260.000000\n",
       "mean      24159.421162\n",
       "std       35932.927372\n",
       "min           0.000000\n",
       "25%        3072.000000\n",
       "50%       10680.320000\n",
       "75%       29922.560000\n",
       "max      555008.000000\n",
       "Name: bnb_yield, dtype: float64"
      ]
     },
     "execution_count": 34,
     "metadata": {},
     "output_type": "execute_result"
    }
   ],
   "source": [
    "df.bnb_yield.describe()"
   ]
  },
  {
   "cell_type": "code",
   "execution_count": 35,
   "metadata": {},
   "outputs": [],
   "source": [
    "# assign class labels to yield\n",
    "def map_labels(bnb_yield):\n",
    "    if bnb_yield >= df[\"bnb_yield\"].quantile(.90):\n",
    "        return '1st'\n",
    "    elif (bnb_yield >= df[\"bnb_yield\"].quantile(.50)):\n",
    "        return '2nd'\n",
    "    elif (bnb_yield >= df[\"bnb_yield\"].quantile(.10)):\n",
    "        return '3rd'\n",
    "    elif (bnb_yield >= 0):\n",
    "        return '4th'\n",
    "    else :\n",
    "        return 'Error'\n",
    "       \n",
    "df[\"tier\"] = df[\"bnb_yield\"].map(map_labels)"
   ]
  },
  {
   "cell_type": "code",
   "execution_count": 36,
   "metadata": {},
   "outputs": [
    {
     "data": {
      "image/png": "[encoded data removed]",
      "text/plain": [
       "<Figure size 432x288 with 1 Axes>"
      ]
     },
     "metadata": {},
     "output_type": "display_data"
    }
   ],
   "source": [
    "df.groupby('tier')['bnb_yield'].mean(\n",
    ").sort_values(ascending=False).plot(kind='bar');"
   ]
  },
  {
   "cell_type": "code",
   "execution_count": 37,
   "metadata": {},
   "outputs": [],
   "source": [
    "# assign class labelsby price\n",
    "def map_labels(price):\n",
    "    if price > df[\"price\"].quantile(.75):\n",
    "        return '1st'\n",
    "    elif (price > df[\"price\"].quantile(.50)):\n",
    "        return '2nd'\n",
    "    elif (price > df[\"price\"].quantile(.25)):\n",
    "        return '3rd'\n",
    "    elif (price >= 0):\n",
    "        return '4th'\n",
    "    else :\n",
    "        return 'Error'\n",
    "       \n",
    "df['tier_price'] = df[\"price\"].map(map_labels)"
   ]
  },
  {
   "cell_type": "code",
   "execution_count": 38,
   "metadata": {
    "scrolled": true
   },
   "outputs": [
    {
     "data": {
      "image/png": "[encoded data removed]",
      "text/plain": [
       "<Figure size 432x288 with 1 Axes>"
      ]
     },
     "metadata": {},
     "output_type": "display_data"
    }
   ],
   "source": [
    "df.groupby('tier_price')['price'].mean(\n",
    ").sort_values(ascending=False).plot(kind='bar');"
   ]
  },
  {
   "cell_type": "markdown",
   "metadata": {},
   "source": [
    "### Time based Variables\n",
    "#### Calculating the time a host has been active "
   ]
  },
  {
   "cell_type": "code",
   "execution_count": 39,
   "metadata": {},
   "outputs": [],
   "source": [
    "from datetime import datetime\n",
    "from dateutil.parser import parse\n",
    "from datetime import timedelta"
   ]
  },
  {
   "cell_type": "code",
   "execution_count": 40,
   "metadata": {},
   "outputs": [],
   "source": [
    "df['host_since'] = pd.to_datetime(df['host_since'])"
   ]
  },
  {
   "cell_type": "code",
   "execution_count": 42,
   "metadata": {},
   "outputs": [],
   "source": [
    "df['DateDiffHostSince'] = np.round((datetime.today() - df.host_since)/ np.timedelta64(1, 'D'),0)"
   ]
  },
  {
   "cell_type": "code",
   "execution_count": 43,
   "metadata": {},
   "outputs": [
    {
     "data": {
      "text/plain": [
       "3250.0    0.000027\n",
       "3300.0    0.000027\n",
       "2908.0    0.000027\n",
       "3106.0    0.000027\n",
       "3509.0    0.000027\n",
       "3117.0    0.000027\n",
       "3567.0    0.000027\n",
       "2955.0    0.000027\n",
       "3216.0    0.000027\n",
       "3381.0    0.000027\n",
       "Name: DateDiffHostSince, dtype: float64"
      ]
     },
     "execution_count": 43,
     "metadata": {},
     "output_type": "execute_result"
    }
   ],
   "source": [
    "df['DateDiffHostSince'].value_counts(normalize=True).tail(10)"
   ]
  },
  {
   "cell_type": "markdown",
   "metadata": {},
   "source": [
    "### Geo-Spatial Analysis\n"
   ]
  },
  {
   "cell_type": "markdown",
   "metadata": {},
   "source": [
    "#### Mapping distance to metro stations "
   ]
  },
  {
   "cell_type": "code",
   "execution_count": 44,
   "metadata": {},
   "outputs": [
    {
     "data": {
      "text/html": [
       "<div>\n",
       "<style scoped>\n",
       "    .dataframe tbody tr th:only-of-type {\n",
       "        vertical-align: middle;\n",
       "    }\n",
       "\n",
       "    .dataframe tbody tr th {\n",
       "        vertical-align: top;\n",
       "    }\n",
       "\n",
       "    .dataframe thead th {\n",
       "        text-align: right;\n",
       "    }\n",
       "</style>\n",
       "<table border=\"1\" class=\"dataframe\">\n",
       "  <thead>\n",
       "    <tr style=\"text-align: right;\">\n",
       "      <th></th>\n",
       "      <th>Line</th>\n",
       "      <th>Station Name</th>\n",
       "      <th>Station Latitude</th>\n",
       "      <th>Station Longitude</th>\n",
       "      <th>Route1</th>\n",
       "      <th>Route2</th>\n",
       "      <th>Route3</th>\n",
       "      <th>Route4</th>\n",
       "      <th>Route5</th>\n",
       "      <th>Route6</th>\n",
       "      <th>Route7</th>\n",
       "      <th>Route8</th>\n",
       "      <th>Route9</th>\n",
       "      <th>Route10</th>\n",
       "      <th>Route11</th>\n",
       "      <th>Entrance Type</th>\n",
       "      <th>Entry</th>\n",
       "      <th>Exit Only</th>\n",
       "      <th>Vending</th>\n",
       "      <th>Staffing</th>\n",
       "      <th>Staff Hours</th>\n",
       "      <th>ADA</th>\n",
       "      <th>ADA Notes</th>\n",
       "      <th>Free Crossover</th>\n",
       "      <th>North South Street</th>\n",
       "      <th>East West Street</th>\n",
       "      <th>Corner</th>\n",
       "      <th>Entrance Latitude</th>\n",
       "      <th>Entrance Longitude</th>\n",
       "      <th>Station Location</th>\n",
       "      <th>Entrance Location</th>\n",
       "    </tr>\n",
       "    <tr>\n",
       "      <th>Division</th>\n",
       "      <th></th>\n",
       "      <th></th>\n",
       "      <th></th>\n",
       "      <th></th>\n",
       "      <th></th>\n",
       "      <th></th>\n",
       "      <th></th>\n",
       "      <th></th>\n",
       "      <th></th>\n",
       "      <th></th>\n",
       "      <th></th>\n",
       "      <th></th>\n",
       "      <th></th>\n",
       "      <th></th>\n",
       "      <th></th>\n",
       "      <th></th>\n",
       "      <th></th>\n",
       "      <th></th>\n",
       "      <th></th>\n",
       "      <th></th>\n",
       "      <th></th>\n",
       "      <th></th>\n",
       "      <th></th>\n",
       "      <th></th>\n",
       "      <th></th>\n",
       "      <th></th>\n",
       "      <th></th>\n",
       "      <th></th>\n",
       "      <th></th>\n",
       "      <th></th>\n",
       "      <th></th>\n",
       "    </tr>\n",
       "  </thead>\n",
       "  <tbody>\n",
       "    <tr>\n",
       "      <th>BMT</th>\n",
       "      <td>4 Avenue</td>\n",
       "      <td>25th St</td>\n",
       "      <td>40.660397</td>\n",
       "      <td>-73.998091</td>\n",
       "      <td>R</td>\n",
       "      <td>NaN</td>\n",
       "      <td>NaN</td>\n",
       "      <td>NaN</td>\n",
       "      <td>NaN</td>\n",
       "      <td>NaN</td>\n",
       "      <td>NaN</td>\n",
       "      <td>NaN</td>\n",
       "      <td>NaN</td>\n",
       "      <td>NaN</td>\n",
       "      <td>NaN</td>\n",
       "      <td>Stair</td>\n",
       "      <td>YES</td>\n",
       "      <td>NaN</td>\n",
       "      <td>YES</td>\n",
       "      <td>FULL</td>\n",
       "      <td>NaN</td>\n",
       "      <td>False</td>\n",
       "      <td>NaN</td>\n",
       "      <td>False</td>\n",
       "      <td>4th Ave</td>\n",
       "      <td>25th St</td>\n",
       "      <td>SE</td>\n",
       "      <td>40.660323</td>\n",
       "      <td>-73.997952</td>\n",
       "      <td>(40.660397, -73.998091)</td>\n",
       "      <td>(40.660323, -73.997952)</td>\n",
       "    </tr>\n",
       "    <tr>\n",
       "      <th>BMT</th>\n",
       "      <td>4 Avenue</td>\n",
       "      <td>25th St</td>\n",
       "      <td>40.660397</td>\n",
       "      <td>-73.998091</td>\n",
       "      <td>R</td>\n",
       "      <td>NaN</td>\n",
       "      <td>NaN</td>\n",
       "      <td>NaN</td>\n",
       "      <td>NaN</td>\n",
       "      <td>NaN</td>\n",
       "      <td>NaN</td>\n",
       "      <td>NaN</td>\n",
       "      <td>NaN</td>\n",
       "      <td>NaN</td>\n",
       "      <td>NaN</td>\n",
       "      <td>Stair</td>\n",
       "      <td>YES</td>\n",
       "      <td>NaN</td>\n",
       "      <td>YES</td>\n",
       "      <td>NONE</td>\n",
       "      <td>NaN</td>\n",
       "      <td>False</td>\n",
       "      <td>NaN</td>\n",
       "      <td>False</td>\n",
       "      <td>4th Ave</td>\n",
       "      <td>25th St</td>\n",
       "      <td>SW</td>\n",
       "      <td>40.660489</td>\n",
       "      <td>-73.998220</td>\n",
       "      <td>(40.660397, -73.998091)</td>\n",
       "      <td>(40.660489, -73.998220)</td>\n",
       "    </tr>\n",
       "    <tr>\n",
       "      <th>BMT</th>\n",
       "      <td>4 Avenue</td>\n",
       "      <td>36th St</td>\n",
       "      <td>40.655144</td>\n",
       "      <td>-74.003549</td>\n",
       "      <td>N</td>\n",
       "      <td>R</td>\n",
       "      <td>NaN</td>\n",
       "      <td>NaN</td>\n",
       "      <td>NaN</td>\n",
       "      <td>NaN</td>\n",
       "      <td>NaN</td>\n",
       "      <td>NaN</td>\n",
       "      <td>NaN</td>\n",
       "      <td>NaN</td>\n",
       "      <td>NaN</td>\n",
       "      <td>Stair</td>\n",
       "      <td>YES</td>\n",
       "      <td>NaN</td>\n",
       "      <td>YES</td>\n",
       "      <td>FULL</td>\n",
       "      <td>NaN</td>\n",
       "      <td>False</td>\n",
       "      <td>NaN</td>\n",
       "      <td>True</td>\n",
       "      <td>4th Ave</td>\n",
       "      <td>36th St</td>\n",
       "      <td>NW</td>\n",
       "      <td>40.654490</td>\n",
       "      <td>-74.004499</td>\n",
       "      <td>(40.655144, -74.003549)</td>\n",
       "      <td>(40.654490, -74.004499)</td>\n",
       "    </tr>\n",
       "    <tr>\n",
       "      <th>BMT</th>\n",
       "      <td>4 Avenue</td>\n",
       "      <td>36th St</td>\n",
       "      <td>40.655144</td>\n",
       "      <td>-74.003549</td>\n",
       "      <td>N</td>\n",
       "      <td>R</td>\n",
       "      <td>NaN</td>\n",
       "      <td>NaN</td>\n",
       "      <td>NaN</td>\n",
       "      <td>NaN</td>\n",
       "      <td>NaN</td>\n",
       "      <td>NaN</td>\n",
       "      <td>NaN</td>\n",
       "      <td>NaN</td>\n",
       "      <td>NaN</td>\n",
       "      <td>Stair</td>\n",
       "      <td>YES</td>\n",
       "      <td>NaN</td>\n",
       "      <td>YES</td>\n",
       "      <td>FULL</td>\n",
       "      <td>NaN</td>\n",
       "      <td>False</td>\n",
       "      <td>NaN</td>\n",
       "      <td>True</td>\n",
       "      <td>4th Ave</td>\n",
       "      <td>36th St</td>\n",
       "      <td>NE</td>\n",
       "      <td>40.654365</td>\n",
       "      <td>-74.004113</td>\n",
       "      <td>(40.655144, -74.003549)</td>\n",
       "      <td>(40.654365, -74.004113)</td>\n",
       "    </tr>\n",
       "    <tr>\n",
       "      <th>BMT</th>\n",
       "      <td>4 Avenue</td>\n",
       "      <td>36th St</td>\n",
       "      <td>40.655144</td>\n",
       "      <td>-74.003549</td>\n",
       "      <td>N</td>\n",
       "      <td>R</td>\n",
       "      <td>NaN</td>\n",
       "      <td>NaN</td>\n",
       "      <td>NaN</td>\n",
       "      <td>NaN</td>\n",
       "      <td>NaN</td>\n",
       "      <td>NaN</td>\n",
       "      <td>NaN</td>\n",
       "      <td>NaN</td>\n",
       "      <td>NaN</td>\n",
       "      <td>Stair</td>\n",
       "      <td>YES</td>\n",
       "      <td>NaN</td>\n",
       "      <td>YES</td>\n",
       "      <td>FULL</td>\n",
       "      <td>NaN</td>\n",
       "      <td>False</td>\n",
       "      <td>NaN</td>\n",
       "      <td>True</td>\n",
       "      <td>4th Ave</td>\n",
       "      <td>36th St</td>\n",
       "      <td>NW</td>\n",
       "      <td>40.654676</td>\n",
       "      <td>-74.004306</td>\n",
       "      <td>(40.655144, -74.003549)</td>\n",
       "      <td>(40.654676, -74.004306)</td>\n",
       "    </tr>\n",
       "  </tbody>\n",
       "</table>\n",
       "</div>"
      ],
      "text/plain": [
       "              Line Station Name  Station Latitude  Station Longitude Route1  \\\n",
       "Division                                                                      \n",
       "BMT       4 Avenue      25th St         40.660397         -73.998091      R   \n",
       "BMT       4 Avenue      25th St         40.660397         -73.998091      R   \n",
       "BMT       4 Avenue      36th St         40.655144         -74.003549      N   \n",
       "BMT       4 Avenue      36th St         40.655144         -74.003549      N   \n",
       "BMT       4 Avenue      36th St         40.655144         -74.003549      N   \n",
       "\n",
       "         Route2 Route3 Route4 Route5 Route6 Route7  Route8  Route9  Route10  \\\n",
       "Division                                                                      \n",
       "BMT         NaN    NaN    NaN    NaN    NaN    NaN     NaN     NaN      NaN   \n",
       "BMT         NaN    NaN    NaN    NaN    NaN    NaN     NaN     NaN      NaN   \n",
       "BMT           R    NaN    NaN    NaN    NaN    NaN     NaN     NaN      NaN   \n",
       "BMT           R    NaN    NaN    NaN    NaN    NaN     NaN     NaN      NaN   \n",
       "BMT           R    NaN    NaN    NaN    NaN    NaN     NaN     NaN      NaN   \n",
       "\n",
       "          Route11 Entrance Type Entry Exit Only Vending Staffing Staff Hours  \\\n",
       "Division                                                                       \n",
       "BMT           NaN         Stair   YES       NaN     YES     FULL         NaN   \n",
       "BMT           NaN         Stair   YES       NaN     YES     NONE         NaN   \n",
       "BMT           NaN         Stair   YES       NaN     YES     FULL         NaN   \n",
       "BMT           NaN         Stair   YES       NaN     YES     FULL         NaN   \n",
       "BMT           NaN         Stair   YES       NaN     YES     FULL         NaN   \n",
       "\n",
       "            ADA ADA Notes  Free Crossover North South Street East West Street  \\\n",
       "Division                                                                        \n",
       "BMT       False       NaN           False            4th Ave          25th St   \n",
       "BMT       False       NaN           False            4th Ave          25th St   \n",
       "BMT       False       NaN            True            4th Ave          36th St   \n",
       "BMT       False       NaN            True            4th Ave          36th St   \n",
       "BMT       False       NaN            True            4th Ave          36th St   \n",
       "\n",
       "         Corner  Entrance Latitude  Entrance Longitude  \\\n",
       "Division                                                 \n",
       "BMT          SE          40.660323          -73.997952   \n",
       "BMT          SW          40.660489          -73.998220   \n",
       "BMT          NW          40.654490          -74.004499   \n",
       "BMT          NE          40.654365          -74.004113   \n",
       "BMT          NW          40.654676          -74.004306   \n",
       "\n",
       "                 Station Location        Entrance Location  \n",
       "Division                                                    \n",
       "BMT       (40.660397, -73.998091)  (40.660323, -73.997952)  \n",
       "BMT       (40.660397, -73.998091)  (40.660489, -73.998220)  \n",
       "BMT       (40.655144, -74.003549)  (40.654490, -74.004499)  \n",
       "BMT       (40.655144, -74.003549)  (40.654365, -74.004113)  \n",
       "BMT       (40.655144, -74.003549)  (40.654676, -74.004306)  "
      ]
     },
     "execution_count": 44,
     "metadata": {},
     "output_type": "execute_result"
    }
   ],
   "source": [
    "df_transit.head(5)\n"
   ]
  },
  {
   "cell_type": "code",
   "execution_count": 45,
   "metadata": {},
   "outputs": [],
   "source": [
    "df_transit['Location']=list(zip(df_transit['Entrance Latitude'],df_transit['Entrance Longitude']))"
   ]
  },
  {
   "cell_type": "code",
   "execution_count": 46,
   "metadata": {},
   "outputs": [],
   "source": [
    "# getting the unique station locations\n",
    "df_transit.drop_duplicates(['Location'], keep='last',inplace=True)"
   ]
  },
  {
   "cell_type": "code",
   "execution_count": 47,
   "metadata": {},
   "outputs": [],
   "source": [
    "df['Location']=list(zip(df['latitude'],df['longitude']))\n",
    "\n",
    "stations =df_transit['Location'].dropna()"
   ]
  },
  {
   "cell_type": "code",
   "execution_count": 49,
   "metadata": {},
   "outputs": [],
   "source": [
    "#Modified from  group assignment 3  \n",
    "def dist_metro(input_location):\n",
    "    distances=[]\n",
    "    for key,val in stations.items():\n",
    "        metro_distance=haversine(val, input_location)\n",
    "        distances+=[metro_distance]\n",
    "    return min(distances)\n",
    "        "
   ]
  },
  {
   "cell_type": "code",
   "execution_count": 50,
   "metadata": {
    "scrolled": true
   },
   "outputs": [],
   "source": [
    "df['dist_transit']=df['Location'].map(dist_metro)"
   ]
  },
  {
   "cell_type": "code",
   "execution_count": 51,
   "metadata": {},
   "outputs": [
    {
     "data": {
      "text/plain": [
       "count    37260.000000\n",
       "mean         0.408036\n",
       "std          0.700836\n",
       "min          0.000912\n",
       "25%          0.166522\n",
       "50%          0.278352\n",
       "75%          0.431180\n",
       "max         21.780943\n",
       "Name: dist_transit, dtype: float64"
      ]
     },
     "execution_count": 51,
     "metadata": {},
     "output_type": "execute_result"
    }
   ],
   "source": [
    "df['dist_transit'].describe()"
   ]
  },
  {
   "cell_type": "code",
   "execution_count": 55,
   "metadata": {},
   "outputs": [],
   "source": [
    "#save a pickle file for subsequnt use \n",
    "df.to_pickle('./data/airbnbNYCclean.pkl')"
   ]
  }
 ],
 "metadata": {
  "hide_input": false,
  "kernelspec": {
   "display_name": "Python 3",
   "language": "python",
   "name": "python3"
  },
  "language_info": {
   "codemirror_mode": {
    "name": "ipython",
    "version": 3
   },
   "file_extension": ".py",
   "mimetype": "text/x-python",
   "name": "python",
   "nbconvert_exporter": "python",
   "pygments_lexer": "ipython3",
   "version": "3.6.5"
  }
 },
 "nbformat": 4,
 "nbformat_minor": 2
}
